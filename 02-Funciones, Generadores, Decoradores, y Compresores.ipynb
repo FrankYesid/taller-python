{
 "cells": [
  {
   "cell_type": "markdown",
   "id": "domestic-attachment",
   "metadata": {},
   "source": [
    "# Funciones\n",
    "\n",
    "Una función es una sección de un programa que calcula un valor de manera independiente al resto del programa.  "
   ]
  },
  {
   "cell_type": "code",
   "execution_count": 13,
   "id": "monetary-allergy",
   "metadata": {},
   "outputs": [],
   "source": [
    "def my_function(argument):\n",
    "    [...]\n",
    "    return value"
   ]
  },
  {
   "cell_type": "markdown",
   "id": "flush-venezuela",
   "metadata": {},
   "source": [
    "<img src='https://imgs.xkcd.com/comics/goto.png'></img>"
   ]
  },
  {
   "cell_type": "code",
   "execution_count": 10,
   "id": "fifteen-jerusalem",
   "metadata": {},
   "outputs": [],
   "source": [
    "def my_function(a, b, c=5, d=8):\n",
    "    [...]\n",
    "    return value"
   ]
  },
  {
   "cell_type": "markdown",
   "id": "integral-spencer",
   "metadata": {},
   "source": [
    "Los argumentos de una función pueden ser **posicionales** o de **palabra clave**, **opcionales** u **obligatorios**.\n",
    "\n",
    "  * Posicional **no significa** obligatorio.\n",
    "  * Palabra clabe **no significa** opcional.\n",
    "  * Los argumentos posicionales son los que se pueden asignar por su posición en la definición de la funión.\n",
    "  * Los argumentos de palabra clave pueden ser asignados por su nombre.\n",
    "  * Los argumentos obligatorios deben ser asignados cuando se llama a la función.\n",
    "  * Los argumentos opcionales son los que pueden ser omitidos al momento de llamar una función, siempre tienen un valor por defecto en la definición de la función."
   ]
  },
  {
   "cell_type": "markdown",
   "id": "macro-consciousness",
   "metadata": {},
   "source": [
    "## Positional argument that is optional"
   ]
  },
  {
   "cell_type": "code",
   "execution_count": 12,
   "id": "inappropriate-purpose",
   "metadata": {},
   "outputs": [],
   "source": [
    "def f(a=2, /):\n",
    "    pass"
   ]
  },
  {
   "cell_type": "code",
   "execution_count": 13,
   "id": "removed-manitoba",
   "metadata": {},
   "outputs": [
    {
     "data": {
      "text/plain": [
       "(None, None)"
      ]
     },
     "execution_count": 13,
     "metadata": {},
     "output_type": "execute_result"
    }
   ],
   "source": [
    "f(), f(1)"
   ]
  },
  {
   "cell_type": "code",
   "execution_count": 38,
   "id": "powerful-companion",
   "metadata": {},
   "outputs": [
    {
     "ename": "TypeError",
     "evalue": "f() got some positional-only arguments passed as keyword arguments: 'a'",
     "output_type": "error",
     "traceback": [
      "\u001b[0;31m---------------------------------------------------------------------------\u001b[0m",
      "\u001b[0;31mTypeError\u001b[0m                                 Traceback (most recent call last)",
      "\u001b[0;32m<ipython-input-38-6a0ab2c303a9>\u001b[0m in \u001b[0;36m<module>\u001b[0;34m\u001b[0m\n\u001b[0;32m----> 1\u001b[0;31m \u001b[0mf\u001b[0m\u001b[0;34m(\u001b[0m\u001b[0ma\u001b[0m\u001b[0;34m=\u001b[0m\u001b[0;36m1\u001b[0m\u001b[0;34m)\u001b[0m\u001b[0;34m\u001b[0m\u001b[0;34m\u001b[0m\u001b[0m\n\u001b[0m",
      "\u001b[0;31mTypeError\u001b[0m: f() got some positional-only arguments passed as keyword arguments: 'a'"
     ]
    }
   ],
   "source": [
    "f(a=1)"
   ]
  },
  {
   "cell_type": "markdown",
   "id": "sunrise-nigeria",
   "metadata": {},
   "source": [
    "## Positional argument that is required"
   ]
  },
  {
   "cell_type": "code",
   "execution_count": 17,
   "id": "german-greeting",
   "metadata": {},
   "outputs": [],
   "source": [
    "def f(a, /):\n",
    "    pass"
   ]
  },
  {
   "cell_type": "code",
   "execution_count": 18,
   "id": "cleared-newman",
   "metadata": {},
   "outputs": [],
   "source": [
    "f(1)"
   ]
  },
  {
   "cell_type": "code",
   "execution_count": 19,
   "id": "worldwide-sector",
   "metadata": {},
   "outputs": [
    {
     "ename": "TypeError",
     "evalue": "f() missing 1 required positional argument: 'a'",
     "output_type": "error",
     "traceback": [
      "\u001b[0;31m---------------------------------------------------------------------------\u001b[0m\n\u001b[0;31mTypeError\u001b[0m                                 Traceback (most recent call last)",
      "File \u001b[0;34m/home/yeison/.local/lib/python3.9/site-packages/IPython/core/interactiveshell.py\u001b[0m, in \u001b[0;32mrun_code\u001b[0m:\nLine \u001b[0;34m3427\u001b[0m:  exec(code_obj, \u001b[36mself\u001b[39;49;00m.user_global_ns, \u001b[36mself\u001b[39;49;00m.user_ns)\n",
      "In  \u001b[0;34m[19]\u001b[0m:\nLine \u001b[0;34m1\u001b[0m:     f(), f(a=\u001b[34m1\u001b[39;49;00m)\n",
      "\u001b[0;31mTypeError\u001b[0m: f() missing 1 required positional argument: 'a'\n\u001b[0;31m---------------------------------------------------------------------------\u001b[0m"
     ]
    }
   ],
   "source": [
    "f(), f(a=1)"
   ]
  },
  {
   "cell_type": "markdown",
   "id": "critical-brunswick",
   "metadata": {},
   "source": [
    "## Keyword argument that is optional"
   ]
  },
  {
   "cell_type": "code",
   "execution_count": 20,
   "id": "vital-dining",
   "metadata": {},
   "outputs": [],
   "source": [
    "def f(*, a=1):\n",
    "    pass"
   ]
  },
  {
   "cell_type": "code",
   "execution_count": 21,
   "id": "unlike-addition",
   "metadata": {},
   "outputs": [
    {
     "data": {
      "text/plain": [
       "(None, None)"
      ]
     },
     "execution_count": 21,
     "metadata": {},
     "output_type": "execute_result"
    }
   ],
   "source": [
    "f(), f(a=1)"
   ]
  },
  {
   "cell_type": "code",
   "execution_count": 22,
   "id": "simplified-paris",
   "metadata": {},
   "outputs": [
    {
     "ename": "TypeError",
     "evalue": "f() takes 0 positional arguments but 1 was given",
     "output_type": "error",
     "traceback": [
      "\u001b[0;31m---------------------------------------------------------------------------\u001b[0m\n\u001b[0;31mTypeError\u001b[0m                                 Traceback (most recent call last)",
      "File \u001b[0;34m/home/yeison/.local/lib/python3.9/site-packages/IPython/core/interactiveshell.py\u001b[0m, in \u001b[0;32mrun_code\u001b[0m:\nLine \u001b[0;34m3427\u001b[0m:  exec(code_obj, \u001b[36mself\u001b[39;49;00m.user_global_ns, \u001b[36mself\u001b[39;49;00m.user_ns)\n",
      "In  \u001b[0;34m[22]\u001b[0m:\nLine \u001b[0;34m1\u001b[0m:     f(\u001b[34m1\u001b[39;49;00m)\n",
      "\u001b[0;31mTypeError\u001b[0m: f() takes 0 positional arguments but 1 was given\n\u001b[0;31m---------------------------------------------------------------------------\u001b[0m"
     ]
    }
   ],
   "source": [
    "f(1)"
   ]
  },
  {
   "cell_type": "markdown",
   "id": "optical-barrier",
   "metadata": {},
   "source": [
    "## keyword argument that is required"
   ]
  },
  {
   "cell_type": "code",
   "execution_count": 23,
   "id": "curious-ontario",
   "metadata": {},
   "outputs": [],
   "source": [
    "def f(*, a):\n",
    "    pass"
   ]
  },
  {
   "cell_type": "code",
   "execution_count": 24,
   "id": "twenty-focus",
   "metadata": {},
   "outputs": [],
   "source": [
    "f(a=1)"
   ]
  },
  {
   "cell_type": "code",
   "execution_count": 25,
   "id": "efficient-roulette",
   "metadata": {},
   "outputs": [
    {
     "ename": "TypeError",
     "evalue": "f() missing 1 required keyword-only argument: 'a'",
     "output_type": "error",
     "traceback": [
      "\u001b[0;31m---------------------------------------------------------------------------\u001b[0m\n\u001b[0;31mTypeError\u001b[0m                                 Traceback (most recent call last)",
      "File \u001b[0;34m/home/yeison/.local/lib/python3.9/site-packages/IPython/core/interactiveshell.py\u001b[0m, in \u001b[0;32mrun_code\u001b[0m:\nLine \u001b[0;34m3427\u001b[0m:  exec(code_obj, \u001b[36mself\u001b[39;49;00m.user_global_ns, \u001b[36mself\u001b[39;49;00m.user_ns)\n",
      "In  \u001b[0;34m[25]\u001b[0m:\nLine \u001b[0;34m1\u001b[0m:     f(), f(\u001b[34m1\u001b[39;49;00m)\n",
      "\u001b[0;31mTypeError\u001b[0m: f() missing 1 required keyword-only argument: 'a'\n\u001b[0;31m---------------------------------------------------------------------------\u001b[0m"
     ]
    }
   ],
   "source": [
    "f(), f(1)"
   ]
  },
  {
   "cell_type": "markdown",
   "id": "pursuant-elements",
   "metadata": {},
   "source": [
    "## Positional and keyword argument that is optional"
   ]
  },
  {
   "cell_type": "code",
   "execution_count": 26,
   "id": "medieval-photograph",
   "metadata": {},
   "outputs": [],
   "source": [
    "def f(a=1, b=2):\n",
    "    pass"
   ]
  },
  {
   "cell_type": "code",
   "execution_count": 28,
   "id": "naughty-occasions",
   "metadata": {},
   "outputs": [
    {
     "data": {
      "text/plain": [
       "(None, None, None)"
      ]
     },
     "execution_count": 28,
     "metadata": {},
     "output_type": "execute_result"
    }
   ],
   "source": [
    "f(), f(1, 2), f(b=2, a=1)"
   ]
  },
  {
   "cell_type": "markdown",
   "id": "minus-niagara",
   "metadata": {},
   "source": [
    "## Positional and keyword argument that is required"
   ]
  },
  {
   "cell_type": "code",
   "execution_count": 29,
   "id": "sharing-departure",
   "metadata": {},
   "outputs": [],
   "source": [
    "def f(a):\n",
    "    pass"
   ]
  },
  {
   "cell_type": "code",
   "execution_count": 17,
   "id": "possible-mercury",
   "metadata": {},
   "outputs": [
    {
     "data": {
      "text/plain": [
       "(None, None)"
      ]
     },
     "execution_count": 17,
     "metadata": {},
     "output_type": "execute_result"
    }
   ],
   "source": [
    "f(1), f(a=1)"
   ]
  },
  {
   "cell_type": "code",
   "execution_count": 18,
   "id": "intimate-complex",
   "metadata": {},
   "outputs": [
    {
     "ename": "TypeError",
     "evalue": "f() missing 1 required positional argument: 'a'",
     "output_type": "error",
     "traceback": [
      "\u001b[0;31m---------------------------------------------------------------------------\u001b[0m",
      "\u001b[0;31mTypeError\u001b[0m                                 Traceback (most recent call last)",
      "\u001b[0;32m<ipython-input-18-c43e34e6d405>\u001b[0m in \u001b[0;36m<module>\u001b[0;34m\u001b[0m\n\u001b[0;32m----> 1\u001b[0;31m \u001b[0mf\u001b[0m\u001b[0;34m(\u001b[0m\u001b[0;34m)\u001b[0m\u001b[0;34m\u001b[0m\u001b[0;34m\u001b[0m\u001b[0m\n\u001b[0m",
      "\u001b[0;31mTypeError\u001b[0m: f() missing 1 required positional argument: 'a'"
     ]
    }
   ],
   "source": [
    "f()"
   ]
  },
  {
   "cell_type": "markdown",
   "id": "satellite-james",
   "metadata": {},
   "source": [
    "## Combinaciones"
   ]
  },
  {
   "cell_type": "markdown",
   "id": "federal-raise",
   "metadata": {},
   "source": [
    "### Todos los argumentos obligatorios"
   ]
  },
  {
   "cell_type": "code",
   "execution_count": 30,
   "id": "hired-oakland",
   "metadata": {},
   "outputs": [],
   "source": [
    "def f(a, /, b, *, c):\n",
    "    pass"
   ]
  },
  {
   "cell_type": "code",
   "execution_count": 31,
   "id": "worth-growing",
   "metadata": {},
   "outputs": [],
   "source": [
    "f(1, b=2, c=3)\n",
    "f(1, 2, c=3)"
   ]
  },
  {
   "cell_type": "code",
   "execution_count": 32,
   "id": "genuine-storage",
   "metadata": {},
   "outputs": [
    {
     "ename": "TypeError",
     "evalue": "f() takes 2 positional arguments but 3 were given",
     "output_type": "error",
     "traceback": [
      "\u001b[0;31m---------------------------------------------------------------------------\u001b[0m\n\u001b[0;31mTypeError\u001b[0m                                 Traceback (most recent call last)",
      "File \u001b[0;34m/home/yeison/.local/lib/python3.9/site-packages/IPython/core/interactiveshell.py\u001b[0m, in \u001b[0;32mrun_code\u001b[0m:\nLine \u001b[0;34m3427\u001b[0m:  exec(code_obj, \u001b[36mself\u001b[39;49;00m.user_global_ns, \u001b[36mself\u001b[39;49;00m.user_ns)\n",
      "In  \u001b[0;34m[32]\u001b[0m:\nLine \u001b[0;34m1\u001b[0m:     f(\u001b[34m1\u001b[39;49;00m, \u001b[34m2\u001b[39;49;00m, \u001b[34m3\u001b[39;49;00m)  \u001b[37m# El tercer agumento requiere palabra clave\u001b[39;49;00m\n",
      "\u001b[0;31mTypeError\u001b[0m: f() takes 2 positional arguments but 3 were given\n\u001b[0;31m---------------------------------------------------------------------------\u001b[0m"
     ]
    }
   ],
   "source": [
    "f(1, 2, 3)  # El tercer agumento requiere palabra clave\n",
    "f(a=1, b=2, c=3)  # El primer argumento es unicamente posicional"
   ]
  },
  {
   "cell_type": "markdown",
   "id": "relative-electronics",
   "metadata": {},
   "source": [
    "### Todos los argumentos opcionales"
   ]
  },
  {
   "cell_type": "code",
   "execution_count": 50,
   "id": "moved-electricity",
   "metadata": {},
   "outputs": [],
   "source": [
    "def f(a=1, /, b=2, *, c=3):\n",
    "    pass"
   ]
  },
  {
   "cell_type": "code",
   "execution_count": 56,
   "id": "looking-zealand",
   "metadata": {},
   "outputs": [],
   "source": [
    "f()\n",
    "f(1, 2, c=3)\n",
    "f(1, b=2, c=3)"
   ]
  },
  {
   "cell_type": "code",
   "execution_count": 57,
   "id": "objective-handle",
   "metadata": {},
   "outputs": [
    {
     "ename": "TypeError",
     "evalue": "f() takes from 0 to 2 positional arguments but 3 were given",
     "output_type": "error",
     "traceback": [
      "\u001b[0;31m---------------------------------------------------------------------------\u001b[0m",
      "\u001b[0;31mTypeError\u001b[0m                                 Traceback (most recent call last)",
      "\u001b[0;32m<ipython-input-57-b5e4f34138d2>\u001b[0m in \u001b[0;36m<module>\u001b[0;34m\u001b[0m\n\u001b[0;32m----> 1\u001b[0;31m \u001b[0mf\u001b[0m\u001b[0;34m(\u001b[0m\u001b[0;36m1\u001b[0m\u001b[0;34m,\u001b[0m \u001b[0;36m2\u001b[0m\u001b[0;34m,\u001b[0m \u001b[0;36m3\u001b[0m\u001b[0;34m)\u001b[0m  \u001b[0;31m# El tercer agumento requiere palabra clave\u001b[0m\u001b[0;34m\u001b[0m\u001b[0;34m\u001b[0m\u001b[0m\n\u001b[0m\u001b[1;32m      2\u001b[0m \u001b[0mf\u001b[0m\u001b[0;34m(\u001b[0m\u001b[0ma\u001b[0m\u001b[0;34m=\u001b[0m\u001b[0;36m1\u001b[0m\u001b[0;34m,\u001b[0m \u001b[0mb\u001b[0m\u001b[0;34m=\u001b[0m\u001b[0;36m2\u001b[0m\u001b[0;34m,\u001b[0m \u001b[0mc\u001b[0m\u001b[0;34m=\u001b[0m\u001b[0;36m3\u001b[0m\u001b[0;34m)\u001b[0m  \u001b[0;31m# El primer argumento es unicamente posicional\u001b[0m\u001b[0;34m\u001b[0m\u001b[0;34m\u001b[0m\u001b[0m\n",
      "\u001b[0;31mTypeError\u001b[0m: f() takes from 0 to 2 positional arguments but 3 were given"
     ]
    }
   ],
   "source": [
    "f(1, 2, 3)  # El tercer agumento requiere palabra clave\n",
    "f(a=1, b=2, c=3)  # El primer argumento es unicamente posicional"
   ]
  },
  {
   "cell_type": "markdown",
   "id": "adjacent-coupon",
   "metadata": {},
   "source": [
    "### Argumentos opcionales y obligatorios"
   ]
  },
  {
   "cell_type": "code",
   "execution_count": 76,
   "id": "expected-maria",
   "metadata": {},
   "outputs": [],
   "source": [
    "def f(a, b, /, c, d=2, *, e, g=3):\n",
    "    pass"
   ]
  },
  {
   "cell_type": "code",
   "execution_count": 89,
   "id": "bacterial-clear",
   "metadata": {},
   "outputs": [],
   "source": [
    "# a, b, c,   d,   e,   g\n",
    "f(1, 2, 3,   4,   e=5, g=6)\n",
    "f(1, 2, 3,   4,   e=5,    )\n",
    "f(1, 2, 3,        e=5, g=6)\n",
    "f(1, 2, 3,        e=5,    )\n",
    "f(1, 2, 3,   d=4, e=5, g=6)\n",
    "f(1, 2, 3,   d=4, e=5,    )\n",
    "f(1, 2, c=3,      e=5, g=6)\n",
    "f(1, 2, c=3,      e=5,    )\n",
    "f(1, 2, c=3, d=4, e=5, g=6)\n",
    "f(1, 2, c=3, d=4, e=5,    )"
   ]
  },
  {
   "cell_type": "code",
   "execution_count": 33,
   "id": "fancy-female",
   "metadata": {},
   "outputs": [
    {
     "name": "stdout",
     "output_type": "stream",
     "text": [
      "\u001b[0;36m  File \u001b[0;32m\"/tmp/xpython_209314/706883318.py\"\u001b[0;36m, line \u001b[0;32m1\u001b[0m\n",
      "\u001b[0;31m    def f(a=1, /, b, *, c):\u001b[0m\n",
      "\u001b[0m                     ^\u001b[0m\n",
      "\u001b[0;31mSyntaxError\u001b[0m\u001b[0;31m:\u001b[0m non-default argument follows default argument\n",
      "\n"
     ]
    }
   ],
   "source": [
    "def f(a=1, /, b, *, c):\n",
    "    pass\n",
    "\n",
    "def f(a=1, /, b=2, *, c):\n",
    "    pass\n",
    "\n",
    "def f(a=1, /, b, *, c=3):\n",
    "    pass"
   ]
  },
  {
   "cell_type": "code",
   "execution_count": 35,
   "id": "impossible-annex",
   "metadata": {},
   "outputs": [],
   "source": [
    "def f(a, b=1, /, c=2, *, d=3):\n",
    "    pass"
   ]
  },
  {
   "cell_type": "markdown",
   "id": "major-engineering",
   "metadata": {},
   "source": [
    "## Usos"
   ]
  },
  {
   "cell_type": "code",
   "execution_count": 37,
   "id": "voluntary-museum",
   "metadata": {},
   "outputs": [],
   "source": [
    "def set_temperature(value, unit='C'):\n",
    "    pass\n",
    "\n",
    "set_temperature(40)\n",
    "set_temperature(100, 'F')\n",
    "set_temperature(100, 'C')"
   ]
  },
  {
   "cell_type": "code",
   "execution_count": 42,
   "id": "incredible-creativity",
   "metadata": {},
   "outputs": [
    {
     "ename": "TypeError",
     "evalue": "set_temperature() takes 1 positional argument but 2 were given",
     "output_type": "error",
     "traceback": [
      "\u001b[0;31m---------------------------------------------------------------------------\u001b[0m\n\u001b[0;31mTypeError\u001b[0m                                 Traceback (most recent call last)",
      "File \u001b[0;34m/home/yeison/.local/lib/python3.9/site-packages/IPython/core/interactiveshell.py\u001b[0m, in \u001b[0;32mrun_code\u001b[0m:\nLine \u001b[0;34m3427\u001b[0m:  exec(code_obj, \u001b[36mself\u001b[39;49;00m.user_global_ns, \u001b[36mself\u001b[39;49;00m.user_ns)\n",
      "In  \u001b[0;34m[42]\u001b[0m:\nLine \u001b[0;34m4\u001b[0m:     set_temperature(\u001b[34m40\u001b[39;49;00m, \u001b[33m'\u001b[39;49;00m\u001b[33mC\u001b[39;49;00m\u001b[33m'\u001b[39;49;00m)\n",
      "\u001b[0;31mTypeError\u001b[0m: set_temperature() takes 1 positional argument but 2 were given\n\u001b[0;31m---------------------------------------------------------------------------\u001b[0m"
     ]
    }
   ],
   "source": [
    "def set_temperature(value, *, unit='C'):\n",
    "    pass\n",
    "\n",
    "set_temperature(40, unit='C')\n",
    "set_temperature(100, unit='F')"
   ]
  },
  {
   "cell_type": "markdown",
   "id": "varying-judges",
   "metadata": {},
   "source": [
    "### Argumentos indefinidos"
   ]
  },
  {
   "cell_type": "code",
   "execution_count": 5,
   "id": "sweet-elder",
   "metadata": {},
   "outputs": [],
   "source": []
  },
  {
   "cell_type": "markdown",
   "id": "blocked-violin",
   "metadata": {},
   "source": [
    "# PEP 484 -- Type Hints\n",
    "\n",
    "Type hinting is a formal solution to statically indicate the type of a value within your Python code."
   ]
  },
  {
   "cell_type": "code",
   "execution_count": 161,
   "id": "unsigned-growth",
   "metadata": {},
   "outputs": [],
   "source": [
    "def my_function(a, b, c=5, d=8):\n",
    "    [...]\n",
    "    return value"
   ]
  },
  {
   "cell_type": "code",
   "execution_count": 7,
   "id": "blessed-forward",
   "metadata": {},
   "outputs": [],
   "source": [
    "def my_function(a: int, b: float, c: int = 5, d: float = 8.2) -> float:\n",
    "    [...]\n",
    "    pass"
   ]
  },
  {
   "cell_type": "code",
   "execution_count": 24,
   "id": "olive-continent",
   "metadata": {},
   "outputs": [],
   "source": [
    "my_function(\"a\", \"b\")"
   ]
  },
  {
   "cell_type": "code",
   "execution_count": 172,
   "id": "protecting-heritage",
   "metadata": {},
   "outputs": [],
   "source": [
    "from typing import Optional\n",
    "\n",
    "def my_function(a: int, b: float, c: Optional[int, float] = 5, d: Optional[float] = 8.2) -> float:\n",
    "    [...]\n",
    "    return value"
   ]
  },
  {
   "cell_type": "code",
   "execution_count": 25,
   "id": "australian-contamination",
   "metadata": {},
   "outputs": [],
   "source": [
    "from typing import Literal\n",
    "\n",
    "def set_temperature(value:float, *, unit=Literal['C', 'F']) -> None:\n",
    "    pass\n",
    "\n",
    "set_temperature(300, unit='K')"
   ]
  },
  {
   "cell_type": "markdown",
   "id": "chinese-thursday",
   "metadata": {},
   "source": [
    "# Generadores"
   ]
  },
  {
   "cell_type": "markdown",
   "id": "about-romania",
   "metadata": {},
   "source": [
    "<div class=\"alert alert-info\">\n",
    "    <b>Nota</b><br>\n",
    "    Los siguientes ejemplos se explican con xeus-python.<br>\n",
    "    <a ref='https://github.com/jupyter-xeus/xeus-python'>Xeus-Python</a> es un kernel para Jupyter con funcionalidades propias de IDEs. \n",
    " </div>"
   ]
  },
  {
   "cell_type": "code",
   "execution_count": 34,
   "id": "synthetic-thailand",
   "metadata": {},
   "outputs": [],
   "source": [
    "def generator():\n",
    "    yield 1 \n",
    "    yield 2 \n",
    "    yield 3 \n",
    "    yield 4 \n",
    "    yield 5"
   ]
  },
  {
   "cell_type": "code",
   "execution_count": 35,
   "id": "aging-technical",
   "metadata": {},
   "outputs": [
    {
     "data": {
      "text/plain": [
       "<generator object generator at 0x7f506cc1cc10>"
      ]
     },
     "execution_count": 35,
     "metadata": {},
     "output_type": "execute_result"
    }
   ],
   "source": [
    "gen = generator()\n",
    "gen"
   ]
  },
  {
   "cell_type": "code",
   "execution_count": 36,
   "id": "better-netherlands",
   "metadata": {},
   "outputs": [
    {
     "data": {
      "text/plain": [
       "1"
      ]
     },
     "execution_count": 36,
     "metadata": {},
     "output_type": "execute_result"
    }
   ],
   "source": [
    "next(gen)"
   ]
  },
  {
   "cell_type": "markdown",
   "id": "limited-massachusetts",
   "metadata": {},
   "source": [
    "## Generador de números primos"
   ]
  },
  {
   "cell_type": "code",
   "execution_count": 78,
   "id": "familiar-grant",
   "metadata": {},
   "outputs": [],
   "source": [
    "import math\n",
    "\n",
    "def prime_numbers():\n",
    "    p = 2\n",
    "    \n",
    "#     while True:\n",
    "    while p < 1000:\n",
    "        p += 1\n",
    "        p_isprime = True\n",
    "        for x in range(2, int(math.sqrt(p) + 1)):\n",
    "            if p % x == 0: \n",
    "                p_isprime = False\n",
    "                break\n",
    "        \n",
    "        if p_isprime:\n",
    "            yield p"
   ]
  },
  {
   "cell_type": "code",
   "execution_count": 80,
   "id": "lined-perry",
   "metadata": {},
   "outputs": [
    {
     "data": {
      "text/plain": [
       "<generator object prime_numbers at 0x7f506cc1c350>"
      ]
     },
     "execution_count": 80,
     "metadata": {},
     "output_type": "execute_result"
    }
   ],
   "source": [
    "primes = prime_numbers()\n",
    "primes"
   ]
  },
  {
   "cell_type": "code",
   "execution_count": 77,
   "id": "signed-intent",
   "metadata": {},
   "outputs": [
    {
     "data": {
      "text/plain": [
       "173"
      ]
     },
     "execution_count": 77,
     "metadata": {},
     "output_type": "execute_result"
    }
   ],
   "source": [
    "next(primes)"
   ]
  },
  {
   "cell_type": "code",
   "execution_count": 81,
   "id": "above-reporter",
   "metadata": {},
   "outputs": [
    {
     "name": "stdout",
     "output_type": "stream",
     "text": [
      "[3, 5, 7, 11, 13, 17, 19, 23, 29, 31, 37, 41, 43, 47, 53, 59, 61, 67, 71, 73, 79, 83, 89, 97, 101, 103, 107, 109, 113, 127, 131, 137, 139, 149, 151, 157, 163, 167, 173, 179, 181, 191, 193, 197, 199, 211, 223, 227, 229, 233, 239, 241, 251, 257, 263, 269, 271, 277, 281, 283, 293, 307, 311, 313, 317, 331, 337, 347, 349, 353, 359, 367, 373, 379, 383, 389, 397, 401, 409, 419, 421, 431, 433, 439, 443, 449, 457, 461, 463, 467, 479, 487, 491, 499, 503, 509, 521, 523, 541, 547, 557, 563, 569, 571, 577, 587, 593, 599, 601, 607, 613, 617, 619, 631, 641, 643, 647, 653, 659, 661, 673, 677, 683, 691, 701, 709, 719, 727, 733, 739, 743, 751, 757, 761, 769, 773, 787, 797, 809, 811, 821, 823, 827, 829, 839, 853, 857, 859, 863, 877, 881, 883, 887, 907, 911, 919, 929, 937, 941, 947, 953, 967, 971, 977, 983, 991, 997]\n"
     ]
    }
   ],
   "source": [
    "print(list(primes))"
   ]
  },
  {
   "cell_type": "markdown",
   "id": "executed-entity",
   "metadata": {},
   "source": [
    "# Decoradores\n",
    "Funciones que reciben funciones"
   ]
  },
  {
   "cell_type": "code",
   "execution_count": 117,
   "id": "crucial-africa",
   "metadata": {},
   "outputs": [],
   "source": [
    "def sum_funtion(n=1e7):\n",
    "    s = 0\n",
    "    for i in range(int(n)):\n",
    "        s += i\n",
    "    return s, n"
   ]
  },
  {
   "cell_type": "code",
   "execution_count": 118,
   "id": "beginning-capitol",
   "metadata": {},
   "outputs": [
    {
     "data": {
      "text/plain": [
       "(49999995000000, 10000000.0)"
      ]
     },
     "execution_count": 118,
     "metadata": {},
     "output_type": "execute_result"
    }
   ],
   "source": [
    "sum_funtion()"
   ]
  },
  {
   "cell_type": "markdown",
   "id": "wooden-bleeding",
   "metadata": {},
   "source": [
    "## Tiempo de ejecución"
   ]
  },
  {
   "cell_type": "code",
   "execution_count": 97,
   "id": "thirty-laugh",
   "metadata": {},
   "outputs": [
    {
     "data": {
      "text/plain": [
       "1615491953.9943836"
      ]
     },
     "execution_count": 97,
     "metadata": {},
     "output_type": "execute_result"
    }
   ],
   "source": [
    "import time\n",
    "\n",
    "time.time()"
   ]
  },
  {
   "cell_type": "code",
   "execution_count": 98,
   "id": "antique-cursor",
   "metadata": {},
   "outputs": [
    {
     "name": "stdout",
     "output_type": "stream",
     "text": [
      "0.6813013553619385\n"
     ]
    }
   ],
   "source": [
    "t0 = time.time()\n",
    "sum_funtion()\n",
    "print(time.time() - t0)"
   ]
  },
  {
   "cell_type": "markdown",
   "id": "accessory-girlfriend",
   "metadata": {},
   "source": [
    "## Usando funciones"
   ]
  },
  {
   "cell_type": "code",
   "execution_count": 119,
   "id": "dedicated-third",
   "metadata": {},
   "outputs": [],
   "source": [
    "def dec_function(fn):\n",
    "    t0 = time.time()\n",
    "    v = fn()\n",
    "    print(f\"Time: {time.time() - t0:.2f} s\")\n",
    "    return v"
   ]
  },
  {
   "cell_type": "code",
   "execution_count": 120,
   "id": "warming-instrument",
   "metadata": {},
   "outputs": [
    {
     "name": "stdout",
     "output_type": "stream",
     "text": [
      "Time: 0.74 s\n"
     ]
    },
    {
     "data": {
      "text/plain": [
       "(49999995000000, 10000000.0)"
      ]
     },
     "execution_count": 120,
     "metadata": {},
     "output_type": "execute_result"
    }
   ],
   "source": [
    "dec_function(sum_funtion)"
   ]
  },
  {
   "cell_type": "code",
   "execution_count": 121,
   "id": "neutral-poker",
   "metadata": {},
   "outputs": [],
   "source": [
    "def dec_function(fn):\n",
    "    \n",
    "    def inset(n):\n",
    "        t0 = time.time()\n",
    "        v = fn(n)\n",
    "        print(f\"Time: {time.time() - t0:.2f} s\")\n",
    "        return v\n",
    "    \n",
    "    return inset"
   ]
  },
  {
   "cell_type": "code",
   "execution_count": 123,
   "id": "middle-effort",
   "metadata": {},
   "outputs": [
    {
     "name": "stdout",
     "output_type": "stream",
     "text": [
      "Time: 0.69 s\n"
     ]
    },
    {
     "data": {
      "text/plain": [
       "(49999995000000, 10000000.0)"
      ]
     },
     "execution_count": 123,
     "metadata": {},
     "output_type": "execute_result"
    }
   ],
   "source": [
    "dec_function(sum_funtion)(1e7)\n",
    "sum_funtion(1e7)"
   ]
  },
  {
   "cell_type": "markdown",
   "id": "korean-andorra",
   "metadata": {},
   "source": [
    "## Decorando"
   ]
  },
  {
   "cell_type": "code",
   "execution_count": 128,
   "id": "billion-copying",
   "metadata": {},
   "outputs": [],
   "source": [
    "@dec_function\n",
    "def sum_funtion(n=1e7):\n",
    "    s = 0\n",
    "    for i in range(int(n)):\n",
    "        s += i\n",
    "    return s"
   ]
  },
  {
   "cell_type": "code",
   "execution_count": 380,
   "id": "expanded-asian",
   "metadata": {},
   "outputs": [
    {
     "name": "stdout",
     "output_type": "stream",
     "text": [
      "Time: 0.66 s\n"
     ]
    },
    {
     "data": {
      "text/plain": [
       "49999995000000"
      ]
     },
     "execution_count": 380,
     "metadata": {},
     "output_type": "execute_result"
    }
   ],
   "source": [
    "sum_funtion(1e7) # dec_function(sum_funtion)(1e6)"
   ]
  },
  {
   "cell_type": "code",
   "execution_count": null,
   "id": "intermediate-capital",
   "metadata": {},
   "outputs": [],
   "source": [
    "@fill_with_mean\n",
    "# @fill_with_zero\n",
    "@normalize\n",
    "def get_data():\n",
    "    [...]\n",
    "    return data_set"
   ]
  },
  {
   "cell_type": "code",
   "execution_count": null,
   "id": "promotional-awareness",
   "metadata": {},
   "outputs": [],
   "source": [
    "data = get_data()\n",
    "\n",
    "data = normalize(data)\n",
    "# data = fill_with_zero(data)\n",
    "data = fill_with_mean(data)"
   ]
  },
  {
   "cell_type": "markdown",
   "id": "worldwide-chemical",
   "metadata": {},
   "source": [
    "## Compresores"
   ]
  },
  {
   "cell_type": "markdown",
   "id": "living-craft",
   "metadata": {},
   "source": [
    "### listas"
   ]
  },
  {
   "cell_type": "code",
   "execution_count": 168,
   "id": "exempt-vulnerability",
   "metadata": {},
   "outputs": [
    {
     "name": "stdout",
     "output_type": "stream",
     "text": [
      "[0, 1, 8, 27, 64, 125, 216, 343, 512, 729, 1000, 1331, 1728, 2197, 2744, 3375, 4096, 4913, 5832, 6859, 8000, 441, 484, 529, 576, 625, 676, 729, 784, 841, 900, 961, 1024, 1089, 1156, 1225, 1296, 1369, 1444, 1521, 1600, 1681, 1764, 1849, 1936, 2025, 2116, 2209, 2304, 2401]\n"
     ]
    }
   ],
   "source": [
    "lista =  range(50)\n",
    "lista_squares = []\n",
    "\n",
    "for i in lista:\n",
    "    if i > 20:\n",
    "        #zzlkdvjls\n",
    "        lista_squares.append(i**2)\n",
    "    else:\n",
    "        #laksdlaksl\n",
    "        lista_squares.append(i**3)\n",
    "\n",
    "print(lista_squares)"
   ]
  },
  {
   "cell_type": "code",
   "execution_count": 171,
   "id": "seasonal-geneva",
   "metadata": {},
   "outputs": [
    {
     "name": "stdout",
     "output_type": "stream",
     "text": [
      "[0, 1, 8, 27, 64, 125, 216, 343, 512, 729, 1000, 1331, 1728, 2197, 2744, 3375, 4096, 4913, 5832, 6859, 8000, 441, 484, 529, 576, 625, 676, 729, 784, 841, 900, 961, 1024, 1089, 1156, 1225, 1296, 1369, 1444, 1521, 1600, 1681, 1764, 1849, 1936, 2025, 2116, 2209, 2304, 2401]\n"
     ]
    }
   ],
   "source": [
    "print([i**2 if i > 20 else i**3 for i in lista])"
   ]
  },
  {
   "cell_type": "markdown",
   "id": "actual-delta",
   "metadata": {},
   "source": [
    "### diccionarios"
   ]
  },
  {
   "cell_type": "code",
   "execution_count": 144,
   "id": "moving-wrist",
   "metadata": {},
   "outputs": [
    {
     "name": "stdout",
     "output_type": "stream",
     "text": [
      "[0, 1, 4, 9, 16, 25, 36, 49, 64, 81, 100, 121, 144, 169, 196, 225, 256, 289, 324, 361, 400, 441, 484, 529, 576, 625, 676, 729, 784, 841, 900, 961, 1024, 1089, 1156, 1225, 1296, 1369, 1444, 1521, 1600, 1681, 1764, 1849, 1936, 2025, 2116, 2209, 2304, 2401]\n"
     ]
    }
   ],
   "source": [
    "print([i**2 for i in lista])"
   ]
  },
  {
   "cell_type": "code",
   "execution_count": 145,
   "id": "global-heaven",
   "metadata": {},
   "outputs": [
    {
     "data": {
      "text/plain": [
       "<generator object <genexpr> at 0x7f506caca350>"
      ]
     },
     "execution_count": 145,
     "metadata": {},
     "output_type": "execute_result"
    }
   ],
   "source": [
    "gen = (i**2 for i in lista)\n",
    "gen"
   ]
  },
  {
   "cell_type": "code",
   "execution_count": 157,
   "id": "boolean-committee",
   "metadata": {},
   "outputs": [
    {
     "data": {
      "text/plain": [
       "100"
      ]
     },
     "execution_count": 157,
     "metadata": {},
     "output_type": "execute_result"
    }
   ],
   "source": [
    "next(gen)"
   ]
  },
  {
   "cell_type": "markdown",
   "id": "atlantic-organic",
   "metadata": {},
   "source": [
    "### conjuntos"
   ]
  },
  {
   "cell_type": "code",
   "execution_count": 160,
   "id": "weird-invitation",
   "metadata": {},
   "outputs": [
    {
     "data": {
      "text/plain": [
       "{1, 2, 3, 4, 5, 78}"
      ]
     },
     "execution_count": 160,
     "metadata": {},
     "output_type": "execute_result"
    }
   ],
   "source": [
    "q = {1,2,1,4,5,2,1,3,5,4,78,2}\n",
    "set(q)"
   ]
  }
 ],
 "metadata": {
  "kernelspec": {
   "display_name": "Python 3",
   "language": "python",
   "name": "python3"
  },
  "language_info": {
   "codemirror_mode": {
    "name": "ipython",
    "version": 3
   },
   "file_extension": ".py",
   "mimetype": "text/x-python",
   "name": "python",
   "nbconvert_exporter": "python",
   "pygments_lexer": "ipython3",
   "version": "3.9.2"
  }
 },
 "nbformat": 4,
 "nbformat_minor": 5
}
