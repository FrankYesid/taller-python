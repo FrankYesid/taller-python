{
 "cells": [
  {
   "cell_type": "markdown",
   "id": "following-saturn",
   "metadata": {},
   "source": [
    "_Python es un lenguaje de programación interpretado cuya filosofía hace hincapié en la legibilidad de su código. Se trata de un lenguaje de programación multiparadigma, ya que soporta **orientación a objetos**, **programación imperativa** y, en menor medida, **programación funcional**._"
   ]
  },
  {
   "cell_type": "markdown",
   "id": "wrong-portland",
   "metadata": {},
   "source": [
    "# Paradigmas de programación"
   ]
  },
  {
   "cell_type": "markdown",
   "id": "curious-start",
   "metadata": {},
   "source": [
    " * **Programación Imperativa:** El código será ejecutado desde el principio del fichero al final sin seguir ningún tipo de desviación. Su mayor ventaja radica en su simplicidad y poco peso. Su peligrosidad es el código espagueti, \n",
    " \n",
    " * **Programación Funcional:** Donde el código se reparte en sencillas funciones capaces de ser invocadas con variables u otras funciones. Su facilidad de uso por atomicidad logra un mantenimiento sólido y compatible con casi cualquier lenguaje.\n",
    " \n",
    " * **Programación Orientada a Objetos:** Donde se encapsulan las variables y funciones en pequeños módulos capaces de clonarse y modificarse. Su punto fuerte es la capacidad de re-utilización y aislamiento para evitar problemas con otras funcionalidades."
   ]
  },
  {
   "cell_type": "markdown",
   "id": "acoustic-roots",
   "metadata": {},
   "source": [
    "<div class=\"alert alert-info\">\n",
    "\n",
    "**sum(), len(), any(), all(), min(), max()**  \n",
    "No son estrictamente componentes de la _programación funcional_, pero son funciones muy útiles disponibles en Python.\n",
    "\n",
    "</div>"
   ]
  },
  {
   "cell_type": "code",
   "execution_count": 85,
   "id": "defined-application",
   "metadata": {},
   "outputs": [
    {
     "data": {
      "text/plain": [
       "(133, 7, 10, 28)"
      ]
     },
     "execution_count": 85,
     "metadata": {},
     "output_type": "execute_result"
    }
   ],
   "source": [
    "iterable = range(10, 30, 3)\n",
    "sum(iterable), len(iterable), min(iterable), max(iterable)"
   ]
  },
  {
   "cell_type": "code",
   "execution_count": 87,
   "id": "double-production",
   "metadata": {},
   "outputs": [
    {
     "data": {
      "text/plain": [
       "(True, True)"
      ]
     },
     "execution_count": 87,
     "metadata": {},
     "output_type": "execute_result"
    }
   ],
   "source": [
    "\n",
    "any([True, False, False, True]), all([True, True, True])"
   ]
  },
  {
   "cell_type": "markdown",
   "id": "minimal-terminology",
   "metadata": {},
   "source": [
    "## Programación Funcional"
   ]
  },
  {
   "cell_type": "markdown",
   "id": "front-exchange",
   "metadata": {},
   "source": [
    "### lambda\n",
    "Funciones anónimas y restrictivas"
   ]
  },
  {
   "cell_type": "code",
   "execution_count": 8,
   "id": "exposed-celtic",
   "metadata": {},
   "outputs": [
    {
     "data": {
      "text/plain": [
       "25"
      ]
     },
     "execution_count": 8,
     "metadata": {},
     "output_type": "execute_result"
    }
   ],
   "source": [
    "def square(x):\n",
    "    return x ** 2\n",
    "\n",
    "square(5)"
   ]
  },
  {
   "cell_type": "code",
   "execution_count": 9,
   "id": "adapted-wings",
   "metadata": {},
   "outputs": [
    {
     "data": {
      "text/plain": [
       "25"
      ]
     },
     "execution_count": 9,
     "metadata": {},
     "output_type": "execute_result"
    }
   ],
   "source": [
    "(lambda x:x**2)(5)"
   ]
  },
  {
   "cell_type": "code",
   "execution_count": 1,
   "id": "motivated-artist",
   "metadata": {},
   "outputs": [
    {
     "data": {
      "text/plain": [
       "25"
      ]
     },
     "execution_count": 1,
     "metadata": {},
     "output_type": "execute_result"
    }
   ],
   "source": [
    "square = lambda x:x**2\n",
    "square(5)"
   ]
  },
  {
   "cell_type": "markdown",
   "id": "frank-favor",
   "metadata": {},
   "source": [
    "### closures\n",
    "Funciones de primera clase (funciones que se definen dentro de otras funciones o que incluso retornan funciones)"
   ]
  },
  {
   "cell_type": "code",
   "execution_count": 22,
   "id": "forty-association",
   "metadata": {},
   "outputs": [
    {
     "name": "stdout",
     "output_type": "stream",
     "text": [
      "5 multiples:\n",
      "10 15 20\n",
      "\n",
      "8 multiples:\n",
      "16 24 32\n"
     ]
    }
   ],
   "source": [
    "def clousure(factor):\n",
    "    def  wrap(value):\n",
    "        return factor * value\n",
    "    return wrap\n",
    "\n",
    "\n",
    "multiple_5 = clousure(5)\n",
    "print(\"5 multiples:\")\n",
    "print(multiple_5(2), multiple_5(3), multiple_5(4))\n",
    "\n",
    "\n",
    "multiple_5 = clousure(8)\n",
    "print(\"\\n8 multiples:\")\n",
    "print(multiple_5(2), multiple_5(3), multiple_5(4))"
   ]
  },
  {
   "cell_type": "markdown",
   "id": "suspended-murray",
   "metadata": {},
   "source": [
    "### filter\n",
    "Aplica una función de evaluación (booleana) a cada elemento dentro de un iterable y retorna los elementos que cumplen con la evaluación"
   ]
  },
  {
   "cell_type": "code",
   "execution_count": 19,
   "id": "residential-partnership",
   "metadata": {},
   "outputs": [
    {
     "data": {
      "text/plain": [
       "False"
      ]
     },
     "execution_count": 19,
     "metadata": {},
     "output_type": "execute_result"
    }
   ],
   "source": [
    "not its_odd"
   ]
  },
  {
   "cell_type": "code",
   "execution_count": 14,
   "id": "expired-audit",
   "metadata": {},
   "outputs": [
    {
     "name": "stdout",
     "output_type": "stream",
     "text": [
      "[1, 3, 5, 7, 9, 11, 13, 15, 17, 19, 21, 23, 25, 27, 29, 31, 33, 35, 37, 39, 41, 43, 45, 47, 49, 51, 53, 55, 57, 59, 61, 63, 65, 67, 69, 71, 73, 75, 77, 79, 81, 83, 85, 87, 89, 91, 93, 95, 97, 99]\n"
     ]
    }
   ],
   "source": [
    "rn = range(100)\n",
    "\n",
    "def its_odd(x):\n",
    "    return x % 2\n",
    "\n",
    "print(list(filter(its_odd, rn)))"
   ]
  },
  {
   "cell_type": "code",
   "execution_count": 21,
   "id": "bound-housing",
   "metadata": {},
   "outputs": [
    {
     "name": "stdout",
     "output_type": "stream",
     "text": [
      "[0, 5, 10, 15, 20, 25, 30, 35, 40, 45, 50, 55, 60, 65, 70, 75, 80, 85, 90, 95]\n",
      "[0, 7, 14, 21, 28, 35, 42, 49, 56, 63, 70, 77, 84, 91, 98]\n",
      "[0, 13, 26, 39, 52, 65, 78, 91]\n"
     ]
    }
   ],
   "source": [
    "print(list(filter(lambda x: not x%5, rn)))  # Múltiplos de 5\n",
    "print(list(filter(lambda x:x%7 == 0, rn)))  # Múltiplos de 7\n",
    "print(list(filter(lambda x:x%13 == 0, rn)))  # Múltiplos de 13"
   ]
  },
  {
   "cell_type": "markdown",
   "id": "relevant-earthquake",
   "metadata": {},
   "source": [
    "### map\n",
    "\n",
    "Aplica un función a cada uno de los elementos de un iterable y retorna un nuevo iterable con el resultado de esas funciones."
   ]
  },
  {
   "cell_type": "code",
   "execution_count": 40,
   "id": "british-qualification",
   "metadata": {},
   "outputs": [
    {
     "name": "stdout",
     "output_type": "stream",
     "text": [
      "[0, 1, 4, 9, 16, 25, 36, 49, 64, 81, 100, 121, 144, 169, 196, 225, 256, 289, 324, 361, 400, 441, 484, 529, 576, 625, 676, 729, 784, 841, 900, 961, 1024, 1089, 1156, 1225, 1296, 1369, 1444, 1521, 1600, 1681, 1764, 1849, 1936, 2025, 2116, 2209, 2304, 2401, 2500, 2601, 2704, 2809, 2916, 3025, 3136, 3249, 3364, 3481, 3600, 3721, 3844, 3969, 4096, 4225, 4356, 4489, 4624, 4761, 4900, 5041, 5184, 5329, 5476, 5625, 5776, 5929, 6084, 6241, 6400, 6561, 6724, 6889, 7056, 7225, 7396, 7569, 7744, 7921, 8100, 8281, 8464, 8649, 8836, 9025, 9216, 9409, 9604, 9801]\n"
     ]
    }
   ],
   "source": [
    "print(list(map(square, rn)))"
   ]
  },
  {
   "cell_type": "markdown",
   "id": "convinced-candy",
   "metadata": {},
   "source": [
    "### zip"
   ]
  },
  {
   "cell_type": "code",
   "execution_count": 22,
   "id": "recent-survival",
   "metadata": {},
   "outputs": [
    {
     "data": {
      "text/plain": [
       "[(0, 0),\n",
       " (1, 10),\n",
       " (2, 20),\n",
       " (3, 30),\n",
       " (4, 40),\n",
       " (5, 50),\n",
       " (6, 60),\n",
       " (7, 70),\n",
       " (8, 80),\n",
       " (9, 90)]"
      ]
     },
     "execution_count": 22,
     "metadata": {},
     "output_type": "execute_result"
    }
   ],
   "source": [
    "a = range(10)\n",
    "b = range(0, 150, 10)\n",
    "\n",
    "list(zip(a, b))"
   ]
  },
  {
   "cell_type": "code",
   "execution_count": 53,
   "id": "separated-height",
   "metadata": {},
   "outputs": [
    {
     "name": "stdout",
     "output_type": "stream",
     "text": [
      "10 12 10\n"
     ]
    },
    {
     "data": {
      "text/plain": [
       "[(0, 0, 0),\n",
       " (1, 10, 100),\n",
       " (2, 20, 200),\n",
       " (3, 30, 300),\n",
       " (4, 40, 400),\n",
       " (5, 50, 500),\n",
       " (6, 60, 600),\n",
       " (7, 70, 700),\n",
       " (8, 80, 800),\n",
       " (9, 90, 900)]"
      ]
     },
     "execution_count": 53,
     "metadata": {},
     "output_type": "execute_result"
    }
   ],
   "source": [
    "a = range(10)\n",
    "b = range(0, 120, 10)\n",
    "c = range(0, 1000, 100)\n",
    "\n",
    "print(len(a), len(b), len(c))\n",
    "list(zip(a, b, c))"
   ]
  },
  {
   "cell_type": "code",
   "execution_count": 23,
   "id": "innocent-toilet",
   "metadata": {},
   "outputs": [
    {
     "data": {
      "text/plain": [
       "[(1, 2, 3, 4, 5), ('a', 'b', 'c', 'd', 'e')]"
      ]
     },
     "execution_count": 23,
     "metadata": {},
     "output_type": "execute_result"
    }
   ],
   "source": [
    "iter_ = [(1, 'a'),\n",
    "         (2, 'b'),\n",
    "         (3, 'c'),\n",
    "         (4, 'd'),\n",
    "         (5, 'e'),\n",
    "        ]\n",
    "\n",
    "list(zip(iter_[0], iter_[1], iter_[2], iter_[3], iter_[4]))"
   ]
  },
  {
   "cell_type": "code",
   "execution_count": 24,
   "id": "driven-hospital",
   "metadata": {},
   "outputs": [
    {
     "data": {
      "text/plain": [
       "[(1, 2, 3, 4, 5), ('a', 'b', 'c', 'd', 'e')]"
      ]
     },
     "execution_count": 24,
     "metadata": {},
     "output_type": "execute_result"
    }
   ],
   "source": [
    "list(zip(*iter_))"
   ]
  },
  {
   "cell_type": "markdown",
   "id": "thermal-pride",
   "metadata": {},
   "source": [
    "### functools.reduce"
   ]
  },
  {
   "cell_type": "code",
   "execution_count": 25,
   "id": "regulation-camel",
   "metadata": {},
   "outputs": [
    {
     "name": "stdout",
     "output_type": "stream",
     "text": [
      "5 + 8 = 13\n"
     ]
    },
    {
     "data": {
      "text/plain": [
       "13"
      ]
     },
     "execution_count": 25,
     "metadata": {},
     "output_type": "execute_result"
    }
   ],
   "source": [
    "def add(x, y):\n",
    "    print(f\"{x} + {y} = {x + y}\")\n",
    "    return x+y\n",
    "    \n",
    "    \n",
    "add(5, 8)"
   ]
  },
  {
   "cell_type": "code",
   "execution_count": 27,
   "id": "preceding-pharmacology",
   "metadata": {},
   "outputs": [
    {
     "name": "stdout",
     "output_type": "stream",
     "text": [
      "[0, 1, 2, 3, 4, 5, 6, 7, 8, 9]\n"
     ]
    }
   ],
   "source": [
    "print(list(range(10)))"
   ]
  },
  {
   "cell_type": "code",
   "execution_count": 28,
   "id": "liquid-consent",
   "metadata": {},
   "outputs": [
    {
     "name": "stdout",
     "output_type": "stream",
     "text": [
      "0 + 1 = 1\n",
      "1 + 2 = 3\n",
      "3 + 3 = 6\n",
      "6 + 4 = 10\n",
      "10 + 5 = 15\n",
      "15 + 6 = 21\n",
      "21 + 7 = 28\n",
      "28 + 8 = 36\n",
      "36 + 9 = 45\n"
     ]
    },
    {
     "data": {
      "text/plain": [
       "45"
      ]
     },
     "execution_count": 28,
     "metadata": {},
     "output_type": "execute_result"
    }
   ],
   "source": [
    "from functools import reduce\n",
    "\n",
    "iter_ = range(10)\n",
    "reduce(add, iter_)"
   ]
  },
  {
   "cell_type": "markdown",
   "id": "activated-inquiry",
   "metadata": {},
   "source": [
    "## Programación Orientada a Objetos"
   ]
  },
  {
   "cell_type": "markdown",
   "id": "framed-blair",
   "metadata": {},
   "source": [
    "----\n",
    "**Referencias**\n",
    "\n",
    "\n",
    "  * [Introducción a la programación funcional en Python](https://programadorwebvalencia.com/introduccion-a-la-programacion-funcional-en-python/)\n",
    "  "
   ]
  }
 ],
 "metadata": {
  "kernelspec": {
   "display_name": "Python 3.9 (XPython)",
   "language": "python",
   "name": "xpython"
  },
  "language_info": {
   "file_extension": ".py",
   "mimetype": "text/x-python",
   "name": "python",
   "version": "3.9.1"
  }
 },
 "nbformat": 4,
 "nbformat_minor": 5
}
