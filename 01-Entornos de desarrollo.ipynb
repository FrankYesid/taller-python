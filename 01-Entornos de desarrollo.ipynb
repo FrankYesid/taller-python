{
 "cells": [
  {
   "cell_type": "markdown",
   "id": "atlantic-ready",
   "metadata": {},
   "source": [
    "# Entornos de programación/desarrollo"
   ]
  },
  {
   "cell_type": "markdown",
   "id": "twelve-forth",
   "metadata": {},
   "source": [
    "## Escritorio\n",
    "\n",
    "Entornos clásicos de programación, pricipalmente se usan para desarrollo de software de alto nivel.\n",
    "\n",
    "  * [IDLE](https://docs.python.org/3/library/idle.html)\n",
    "  * [PyCharm](https://www.jetbrains.com/pycharm/)\n",
    "  * [Spyder](https://www.spyder-ide.org/)\n",
    "  * [Microsoft Visual Studio](https://visualstudio.microsoft.com/vs/features/python/)\n",
    "  * [Eclipse](https://www.pydev.org/)\n",
    "  * [WingIDE](https://wingware.com/)\n",
    "  * [eric](https://eric-ide.python-projects.org/)"
   ]
  },
  {
   "cell_type": "markdown",
   "id": "deluxe-embassy",
   "metadata": {},
   "source": [
    "## Nube\n",
    "\n",
    "Jupyter Notebooks, Casi-Estándar para machine learning.\n",
    "\n",
    "  * [Colaboratory](https://colab.research.google.com/)\n",
    "  * [Kaggle Kernels](https://www.kaggle.com/kernels)\n",
    "  * [AWS SageMaker](https://aws.amazon.com/sagemaker/)\n",
    "  * [Google Cloud Datalab](https://cloud.google.com/datalab/docs/how-to/working-with-notebooks)\n",
    "  * [Domino Data Lab](https://www.dominodatalab.com/)\n",
    "  * [DataBrick Notebooks](https://docs.databricks.com/notebooks/index.html)\n",
    "  * [Azure Notebooks](https://notebooks.azure.com/)\n",
    "  * [Saturn Cloud](https://www.saturncloud.io/s/home/)"
   ]
  },
  {
   "cell_type": "markdown",
   "id": "latest-stone",
   "metadata": {},
   "source": [
    "## PIP and PyPi\n",
    "\n",
    "[PyPi](https://pypi.org/) es el repositorio oficial de Python.  \n",
    "Anaconda?, conda?"
   ]
  },
  {
   "cell_type": "markdown",
   "id": "valued-alberta",
   "metadata": {},
   "source": [
    "<img src='https://imgs.xkcd.com/comics/python_environment.png '></img>"
   ]
  },
  {
   "cell_type": "code",
   "execution_count": null,
   "id": "documented-gospel",
   "metadata": {},
   "outputs": [],
   "source": [
    "# install\n",
    "$ pip install numpy\n",
    "\n",
    "# update\n",
    "$ pip -U install numpy\n",
    "\n",
    "# uninstall\n",
    "$ pip uninstall numpy"
   ]
  },
  {
   "cell_type": "code",
   "execution_count": null,
   "id": "secure-fence",
   "metadata": {},
   "outputs": [],
   "source": [
    "# paquetes instalados\n",
    "$ pip list\n",
    "\n",
    "# paquetes desactualizados\n",
    "$ pip list -o\n",
    "\n",
    "# actualizar todo\n",
    "!pip freeze --local | grep -v '^\-e' | cut -d = -f 1 | xargs -n1 pip install -U"
   ]
  },
  {
   "cell_type": "markdown",
   "id": "faced-pharmacology",
   "metadata": {},
   "source": [
    "## Entornos virtuales\n",
    "\n",
    "Sirven para aislar paquetes específicos de Python, generar lista de dependencias."
   ]
  },
  {
   "cell_type": "code",
   "execution_count": null,
   "id": "joined-theory",
   "metadata": {},
   "outputs": [],
   "source": [
    "# crear un entorno\n",
    "$ python3 -m venv mi_entorno"
   ]
  },
  {
   "cell_type": "code",
   "execution_count": null,
   "id": "joint-hurricane",
   "metadata": {},
   "outputs": [],
   "source": [
    "# activar el entorno\n",
    "$ source mi_entorno/bin/activate"
   ]
  },
  {
   "cell_type": "code",
   "execution_count": null,
   "id": "worst-parliament",
   "metadata": {},
   "outputs": [],
   "source": [
    "$ deactivate"
   ]
  }
 ],
 "metadata": {
  "kernelspec": {
   "display_name": "Python 3",
   "language": "python",
   "name": "python3"
  },
  "language_info": {
   "codemirror_mode": {
    "name": "ipython",
    "version": 3
   },
   "file_extension": ".py",
   "mimetype": "text/x-python",
   "name": "python",
   "nbconvert_exporter": "python",
   "pygments_lexer": "ipython3",
   "version": "3.9.2"
  }
 },
 "nbformat": 4,
 "nbformat_minor": 5
}
