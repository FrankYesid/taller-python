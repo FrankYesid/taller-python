{
 "cells": [
  {
   "cell_type": "markdown",
   "metadata": {},
   "source": [
    "# Resumen\n",
    "En Python `Threading` y `Multiprocessing` son herramientas increíblemente útiles, sin embargo en algunas ocasiones suelen ser confundidas, algunos desarrolladores no entienden muy bien cuando usar una técnica o la otra, en este post codificaremos unos casos de ejemplos para comparar el rendimiento, explicaremos el por qué de esos resultados, exploraremos algunas ventajas que tienen una sobre la otra e intentaremos hacer una lista de recomendación para saber cual usar en nuestras implementaciones. **Este NO es un tutorial de cómo usar Threads en Python**."
   ]
  },
  {
   "cell_type": "markdown",
   "metadata": {},
   "source": [
    "# Tareas"
   ]
  },
  {
   "cell_type": "markdown",
   "metadata": {},
   "source": [
    "Lo mas seguro es que si eres un desarrollador Python estés mas familiarizado con los hilos (threads) que con los procesos, es muy probable que lo primero que se nos venga a la cabeza al momento pensar en un hilo es en una forma de «ejecutar múltiples tareas al mismo tiempo», entonces comencemos definiendo una tarea sencilla."
   ]
  },
  {
   "cell_type": "code",
   "execution_count": 3,
   "metadata": {},
   "outputs": [],
   "source": [
    "def long_funtion(n=10000000):\n",
    "    k = 0\n",
    "    for i in range(n):\n",
    "        k += i"
   ]
  },
  {
   "cell_type": "markdown",
   "metadata": {},
   "source": [
    "Básicamente tenemos una función se toma unos cuantos segundos en ejecutare por completo, es importante que esta función siempre esté haciendo algo, por ese motivo no hay `sleeps()` en ella."
   ]
  },
  {
   "cell_type": "code",
   "execution_count": 4,
   "metadata": {},
   "outputs": [],
   "source": [
    "long_funtion()"
   ]
  },
  {
   "cell_type": "markdown",
   "metadata": {},
   "source": [
    "Podemos calcular el tiempo que tarda en ejecutarse de una forma muy sencilla:"
   ]
  },
  {
   "cell_type": "code",
   "execution_count": 5,
   "metadata": {},
   "outputs": [
    {
     "name": "stdout",
     "output_type": "stream",
     "text": [
      "0.618 seconds\n"
     ]
    }
   ],
   "source": [
    "import time\n",
    "\n",
    "t0 = time.time()\n",
    "long_funtion()\n",
    "t1 = time.time()\n",
    "\n",
    "print(f\"{t1-t0:.3f} seconds\")"
   ]
  },
  {
   "cell_type": "markdown",
   "metadata": {},
   "source": [
    "Ahora, si hacemos múltiples llamados el tiempo crecerá (como es de esperarse) de forma lineal con pendiente constante."
   ]
  },
  {
   "cell_type": "code",
   "execution_count": 6,
   "metadata": {},
   "outputs": [
    {
     "data": {
      "image/png": "[encoded data removed]",
      "text/plain": [
       "<Figure size 700x400 with 1 Axes>"
      ]
     },
     "metadata": {
      "needs_background": "light"
     },
     "output_type": "display_data"
    }
   ],
   "source": [
    "from matplotlib import pyplot as plt\n",
    "\n",
    "calls = []\n",
    "\n",
    "for i in range(1, 11):\n",
    "    t0 = time.time()\n",
    "    for _ in range(i):\n",
    "        long_funtion()\n",
    "    t1 = time.time()\n",
    "    calls.append(t1-t0)\n",
    "    \n",
    "plt.figure(figsize=(7, 4), dpi=100)\n",
    "plt.plot(calls, '-o')\n",
    "plt.grid(True)\n",
    "plt.xlabel('Number of tasks')\n",
    "plt.ylabel('Execution time [$s$]')\n",
    "plt.show()"
   ]
  },
  {
   "cell_type": "markdown",
   "metadata": {},
   "source": [
    "Antes de continuar vamos a reescribir la tarea para que podamos asignarle una etiqueta y que nos imprima cuando comienza y cuando termina, además queremos que nos imprima cada `1000000` iteraciones el porcentaje de avance."
   ]
  },
  {
   "cell_type": "code",
   "execution_count": 7,
   "metadata": {},
   "outputs": [],
   "source": [
    "def long_funtion(n=10000000, label=None):\n",
    "    if label:\n",
    "        print(f\"+start {label}\")\n",
    "    k = 0\n",
    "    for i in range(1, n):\n",
    "        k += i\n",
    "        if label and not i%1000000:\n",
    "            print(f\"  {label} {i*100//n}%\")\n",
    "    if label:\n",
    "        print(f\"-end {label}\")"
   ]
  },
  {
   "cell_type": "code",
   "execution_count": 8,
   "metadata": {},
   "outputs": [
    {
     "name": "stdout",
     "output_type": "stream",
     "text": [
      "+start function-1\n",
      "  function-1 10%\n",
      "  function-1 20%\n",
      "  function-1 30%\n",
      "  function-1 40%\n",
      "  function-1 50%\n",
      "  function-1 60%\n",
      "  function-1 70%\n",
      "  function-1 80%\n",
      "  function-1 90%\n",
      "-end function-1\n",
      "+start function-2\n",
      "  function-2 10%\n",
      "  function-2 20%\n",
      "  function-2 30%\n",
      "  function-2 40%\n",
      "  function-2 50%\n",
      "  function-2 60%\n",
      "  function-2 70%\n",
      "  function-2 80%\n",
      "  function-2 90%\n",
      "-end function-2\n",
      "+start function-3\n",
      "  function-3 10%\n",
      "  function-3 20%\n",
      "  function-3 30%\n",
      "  function-3 40%\n",
      "  function-3 50%\n",
      "  function-3 60%\n",
      "  function-3 70%\n",
      "  function-3 80%\n",
      "  function-3 90%\n",
      "-end function-3\n",
      "+start function-4\n",
      "  function-4 10%\n",
      "  function-4 20%\n",
      "  function-4 30%\n",
      "  function-4 40%\n",
      "  function-4 50%\n",
      "  function-4 60%\n",
      "  function-4 70%\n",
      "  function-4 80%\n",
      "  function-4 90%\n",
      "-end function-4\n",
      "5.033 seconds\n"
     ]
    }
   ],
   "source": [
    "t0 = time.time()\n",
    "long_funtion(label='function-1')\n",
    "long_funtion(label='function-2')\n",
    "long_funtion(label='function-3')\n",
    "long_funtion(label='function-4')\n",
    "t1 = time.time()\n",
    "\n",
    "print(f\"{t1-t0:.3f} seconds\")"
   ]
  },
  {
   "cell_type": "markdown",
   "metadata": {},
   "source": [
    "Como podemos ver se ejecutaron de forma consecutiva, hasta no terminar una no empezaba con la siguiente."
   ]
  },
  {
   "cell_type": "markdown",
   "metadata": {},
   "source": [
    "## Threading\n",
    "\n",
    "Si implementamos lo mismo pero haciendo uso de hilos nos quedaría un código como el siguiente, la funcionalidad de llamar a `join()` es para esperar a que terminen los 4 llamados."
   ]
  },
  {
   "cell_type": "code",
   "execution_count": 9,
   "metadata": {},
   "outputs": [
    {
     "name": "stdout",
     "output_type": "stream",
     "text": [
      "+start function-0\n",
      "+start function-1\n",
      "+start function-2\n",
      "+start function-3\n",
      "  function-1 10%\n",
      "  function-0 10%  function-2 10%\n",
      "\n",
      "  function-1 20%\n",
      "  function-3 10%\n",
      "  function-0 20%\n",
      "  function-1 30%\n",
      "  function-3 20%\n",
      "  function-0 30%\n",
      "  function-3 30%\n",
      "  function-2 20%\n",
      "  function-0 40%\n",
      "  function-1 40%\n",
      "  function-2 30%\n",
      "  function-3 40%\n",
      "  function-2 40%\n",
      "  function-0 50%\n",
      "  function-1 50%\n",
      "  function-2 50%\n",
      "  function-3 50%\n",
      "  function-2 60%\n",
      "  function-3 60%  function-2 70%\n",
      "\n",
      "  function-0 60%\n",
      "  function-1 60%\n",
      "  function-3 70%\n",
      "  function-2 80%\n",
      "  function-3 80%\n",
      "  function-1 70%\n",
      "  function-0 70%\n",
      "  function-2 90%\n",
      "  function-3 90%\n",
      "  function-0 80%\n",
      "-end function-3\n",
      "  function-1 80%\n",
      "-end function-2\n",
      "  function-1 90%  function-0 90%\n",
      "\n",
      "-end function-1-end function-0\n",
      "\n",
      "\n",
      "4.594 seconds\n"
     ]
    }
   ],
   "source": [
    "from threading import Thread\n",
    "\n",
    "t0 = time.time()\n",
    "\n",
    "stuffs = [Thread(target=long_funtion, kwargs={'label':f'function-{i}'}) for i in range(4)]\n",
    "[stuf.start() for stuf in stuffs]\n",
    "[stuf.join() for stuf in stuffs]\n",
    "\n",
    "t1 = time.time()\n",
    "\n",
    "print(f\"\\n{t1-t0:.3f} seconds\")"
   ]
  },
  {
   "cell_type": "markdown",
   "metadata": {},
   "source": [
    "El resultado que obtenemos es que se ha demorado incluso mas, además la forma en que se ejecutaron es muy diferente a la anterior, efectivamente se ejecutaron al mismo tiempo, pero eso no quiere decir que se demoren menos, lo que pasa es que el procesador recibe las 4 tareas y las ejecuta por medio de interrupciones, es decir avanza un poco en una tarea y la interrupe para continuar con otra tarea otro poco y así hasta que las termina todas."
   ]
  },
  {
   "cell_type": "markdown",
   "metadata": {},
   "source": [
    "## Multiprocessing\n",
    "\n",
    "Ahora con procesos, lo primero que se puede ver es que la notación es muy similar a los hilos."
   ]
  },
  {
   "cell_type": "code",
   "execution_count": 10,
   "metadata": {},
   "outputs": [
    {
     "name": "stdout",
     "output_type": "stream",
     "text": [
      "+start function-0\n",
      "+start function-1\n",
      "+start function-3\n",
      "+start function-2\n",
      "  function-1 10%\n",
      "  function-0 10%\n",
      "  function-3 10%\n",
      "  function-2 10%\n",
      "  function-1 20%\n",
      "  function-0 20%\n",
      "  function-3 20%\n",
      "  function-2 20%\n",
      "  function-0 30%\n",
      "  function-1 30%\n",
      "  function-2 30%\n",
      "  function-3 30%\n",
      "  function-0 40%\n",
      "  function-2 40%\n",
      "  function-1 40%\n",
      "  function-3 40%\n",
      "  function-2 50%\n",
      "  function-0 50%\n",
      "  function-3 50%\n",
      "  function-1 50%\n",
      "  function-2 60%\n",
      "  function-0 60%\n",
      "  function-3 60%\n",
      "  function-1 60%\n",
      "  function-3 70%  function-0 70%\n",
      "\n",
      "  function-2 70%\n",
      "  function-1 70%\n",
      "  function-0 80%\n",
      "  function-2 80%\n",
      "  function-3 80%\n",
      "  function-1 80%\n",
      "  function-0 90%\n",
      "  function-2 90%\n",
      "  function-1 90%\n",
      "  function-3 90%\n",
      "-end function-0\n",
      "-end function-3\n",
      "-end function-2\n",
      "-end function-1\n",
      "3.552 seconds\n"
     ]
    }
   ],
   "source": [
    "from multiprocessing import Process\n",
    "\n",
    "t0 = time.time()\n",
    "\n",
    "stuffs = [Process(target=long_funtion, kwargs={'label':f'function-{i}'}) for i in range(4)]\n",
    "[stuf.start() for stuf in stuffs]\n",
    "[stuf.join() for stuf in stuffs]\n",
    "\n",
    "t1 = time.time()\n",
    "\n",
    "print(f\"{t1-t0:.3f} seconds\")"
   ]
  },
  {
   "cell_type": "markdown",
   "metadata": {},
   "source": [
    "En este caso el tiempo de ejecución disminuyó un poco, lo que ha pasado es que las funciones se han ejecutado en diferentes procesadores, esa es la principal diferencia entre un `multithreading` y `multiprocessing`, cuando se divide una tarea en hilos, todos los hilos que se generen se ejecutarán en el mismo procesador, mientras que con los procesos las tareas se distribuirán en los procesadores disponibles."
   ]
  },
  {
   "cell_type": "markdown",
   "metadata": {},
   "source": [
    "# Comparación de rendimiento\n",
    "\n",
    "Ahora vamos a ejecutar grupos de tareas, desde una sola a 20 tareas en «simultáneo» y medir el tiempo que toma en ejecutarse todas ellas."
   ]
  },
  {
   "cell_type": "code",
   "execution_count": 313,
   "metadata": {},
   "outputs": [
    {
     "data": {
      "image/png": "[encoded data removed]",
      "text/plain": [
       "<Figure size 700x400 with 1 Axes>"
      ]
     },
     "metadata": {
      "needs_background": "light"
     },
     "output_type": "display_data"
    }
   ],
   "source": [
    "calls = range(1, 20, 1)\n",
    "\n",
    "simple_calls = []\n",
    "thread_calls = []\n",
    "process_calls = []\n",
    "\n",
    "for i in calls:\n",
    "\n",
    "    t0 = time.time()\n",
    "    [long_funtion() for i in range(i)]\n",
    "    t1 = time.time()\n",
    "    simple_calls.append(t1-t0)\n",
    "    \n",
    "    t0 = time.time()\n",
    "    stuffs = [Thread(target=long_funtion) for i in range(i)]\n",
    "    [stuf.start() for stuf in stuffs]\n",
    "    [stuf.join() for stuf in stuffs]\n",
    "    t1 = time.time()\n",
    "    thread_calls.append(t1-t0)\n",
    "    \n",
    "    t0 = time.time()\n",
    "    stuffs = [Process(target=long_funtion) for i in range(i)]\n",
    "    [stuf.start() for stuf in stuffs]\n",
    "    [stuf.join() for stuf in stuffs]\n",
    "    t1 = time.time()\n",
    "    process_calls.append(t1-t0)\n",
    "    \n",
    "plt.figure(figsize=(7, 4), dpi=100)\n",
    "plt.plot(calls, simple_calls, '-o', label='Simple calls')\n",
    "plt.plot(calls, thread_calls, '-o', label='Thread calls')\n",
    "plt.plot(calls, process_calls, '-o', label='Process calls')\n",
    "plt.grid(True)\n",
    "plt.xlabel('Number of tasks')\n",
    "plt.ylabel('Execution time [$s$]')\n",
    "\n",
    "plt.legend(ncol=3)\n",
    "plt.savefig('images/threadvsprocessing.jpg')\n",
    "plt.show()"
   ]
  },
  {
   "cell_type": "markdown",
   "metadata": {},
   "source": [
    "Podemos ver un rendimiento lineal, las tareas se demoran menos cuando se distribuyen por todos los procesadores disponibles lo cual es el resultado esperado, sin embargo parece que es mejor usar llamados simples que ejecutarlos en hilos, la razón es muy sencilla, y es que como ya se había mencionado, los hilos usan interrupciones y estas no son inmediatas, hay una pequeña pausa entre la interrupción de una tarea y la continuación de otra, todas esas pausas se acumulan y se suman al tiempo de ejecución."
   ]
  },
  {
   "cell_type": "markdown",
   "metadata": {},
   "source": [
    "# Conclusión"
   ]
  },
  {
   "cell_type": "markdown",
   "metadata": {},
   "source": [
    "Hay muchas características propias de cada método, no se trata de elegir el que aparenta ser mas rápido, ejecutar múltiples hilos en el mismo procesador tiene una ventaja muy grande a la hora de intercambiar información, podemos compartir estructuras de datos de una forma muy sencilla y rápida, es entendible que compartir datos entre procesadores sea una tarea un poco mas compleja y aunque es posible usar colas especiales la velocidad de lectura y escritura se verá comprometida, este es el factor decisorio principal a la hora de elegir el método que mas nos convenga en nuestro desarrollo.  \n",
    "\n",
    "La mayoría de las veces si tenemos un desarrollo muy complejo la mejor solución es usar ambas técnicas y elegir correctamente los trabajos que ejecutaremos en hilos o en procesos, en mi experiencia tareas como adquisición y procesamiento en tiempo real es mejor ejecutarlas en múltiples hilos en el mismo procesador, luego, en los procesadores restantes implementar servidores para streamming, validaciones, APIs."
   ]
  }
 ],
 "metadata": {
  "kernelspec": {
   "display_name": "Python 3",
   "language": "python",
   "name": "python3"
  },
  "language_info": {
   "codemirror_mode": {
    "name": "ipython",
    "version": 3
   },
   "file_extension": ".py",
   "mimetype": "text/x-python",
   "name": "python",
   "nbconvert_exporter": "python",
   "pygments_lexer": "ipython3",
   "version": "3.9.2"
  }
 },
 "nbformat": 4,
 "nbformat_minor": 4
}
