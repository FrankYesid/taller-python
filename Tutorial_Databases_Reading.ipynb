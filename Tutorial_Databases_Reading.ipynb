{
  "nbformat": 4,
  "nbformat_minor": 0,
  "metadata": {
    "colab": {
      "name": "Tutorial : Databases_Reading.ipynb",
      "provenance": [],
      "collapsed_sections": [
        "eOSOSfCnxkJ6",
        "qQPNP13ixxBW",
        "mXMTNd1mymim",
        "vQDz7h8oIPue",
        "rBMKFW5Vx9rB",
        "-Z6ILn2YywRj",
        "UbAgw9l3Id5M",
        "6D-G8hr-JCav",
        "VcRCcBqjJU8C",
        "EbhNvJn1J1ng",
        "xhZKJdScWKdz",
        "ECiCxiBmKHSZ",
        "UMZ5b220eLy5",
        "6FW_lWgNeTQ4",
        "MCMVpXCZefcK",
        "yJhN2faWesIr",
        "qfpsFY6De6xK",
        "X44-7uwNfKu3",
        "hqB23KPNfOTV",
        "MnJ4CiODfVwY",
        "7aq1hjnafdra",
        "0b2SwfVjfltb"
      ]
    },
    "kernelspec": {
      "name": "python3",
      "display_name": "Python 3"
    },
    "language_info": {
      "name": "python"
    },
    "widgets": {
      "application/vnd.jupyter.widget-state+json": {
        "4941cccf6b0b4e0e8c31f8f07a863955": {
          "model_module": "@jupyter-widgets/controls",
          "model_name": "HBoxModel",
          "state": {
            "_view_name": "HBoxView",
            "_dom_classes": [],
            "_model_name": "HBoxModel",
            "_view_module": "@jupyter-widgets/controls",
            "_model_module_version": "1.5.0",
            "_view_count": null,
            "_view_module_version": "1.5.0",
            "box_style": "",
            "layout": "IPY_MODEL_66f5a24c5837432d995c6e53a49e3d1e",
            "_model_module": "@jupyter-widgets/controls",
            "children": [
              "IPY_MODEL_d6ef437b4f4a4f7883b40cd2283ba94a",
              "IPY_MODEL_140a00efac7646919b0244271be4ab68"
            ]
          }
        },
        "66f5a24c5837432d995c6e53a49e3d1e": {
          "model_module": "@jupyter-widgets/base",
          "model_name": "LayoutModel",
          "state": {
            "_view_name": "LayoutView",
            "grid_template_rows": null,
            "right": null,
            "justify_content": null,
            "_view_module": "@jupyter-widgets/base",
            "overflow": null,
            "_model_module_version": "1.2.0",
            "_view_count": null,
            "flex_flow": null,
            "width": null,
            "min_width": null,
            "border": null,
            "align_items": null,
            "bottom": null,
            "_model_module": "@jupyter-widgets/base",
            "top": null,
            "grid_column": null,
            "overflow_y": null,
            "overflow_x": null,
            "grid_auto_flow": null,
            "grid_area": null,
            "grid_template_columns": null,
            "flex": null,
            "_model_name": "LayoutModel",
            "justify_items": null,
            "grid_row": null,
            "max_height": null,
            "align_content": null,
            "visibility": null,
            "align_self": null,
            "height": null,
            "min_height": null,
            "padding": null,
            "grid_auto_rows": null,
            "grid_gap": null,
            "max_width": null,
            "order": null,
            "_view_module_version": "1.2.0",
            "grid_template_areas": null,
            "object_position": null,
            "object_fit": null,
            "grid_auto_columns": null,
            "margin": null,
            "display": null,
            "left": null
          }
        },
        "d6ef437b4f4a4f7883b40cd2283ba94a": {
          "model_module": "@jupyter-widgets/controls",
          "model_name": "FloatProgressModel",
          "state": {
            "_view_name": "ProgressView",
            "style": "IPY_MODEL_48e2a65c1d374ada8959de82759d4cb0",
            "_dom_classes": [],
            "description": "databases/BCI_Competition_IV/dataset_2a/A08T.mat: ",
            "_model_name": "FloatProgressModel",
            "bar_style": "success",
            "max": 1374.2695617675781,
            "_view_module": "@jupyter-widgets/controls",
            "_model_module_version": "1.5.0",
            "value": 1374.2695617675781,
            "_view_count": null,
            "_view_module_version": "1.5.0",
            "orientation": "horizontal",
            "min": 0,
            "description_tooltip": null,
            "_model_module": "@jupyter-widgets/controls",
            "layout": "IPY_MODEL_9c8f883944234ca1b8f9e4d919d0c8ab"
          }
        },
        "140a00efac7646919b0244271be4ab68": {
          "model_module": "@jupyter-widgets/controls",
          "model_name": "HTMLModel",
          "state": {
            "_view_name": "HTMLView",
            "style": "IPY_MODEL_e2d66f27bdca47a897befae425c9d65d",
            "_dom_classes": [],
            "description": "",
            "_model_name": "HTMLModel",
            "placeholder": "​",
            "_view_module": "@jupyter-widgets/controls",
            "_model_module_version": "1.5.0",
            "value": " 1.34k/? [00:00&lt;00:00, 4.10kB/s]",
            "_view_count": null,
            "_view_module_version": "1.5.0",
            "description_tooltip": null,
            "_model_module": "@jupyter-widgets/controls",
            "layout": "IPY_MODEL_8610323f7a2d4e16be33cdfc26a26ee0"
          }
        },
        "48e2a65c1d374ada8959de82759d4cb0": {
          "model_module": "@jupyter-widgets/controls",
          "model_name": "ProgressStyleModel",
          "state": {
            "_view_name": "StyleView",
            "_model_name": "ProgressStyleModel",
            "description_width": "initial",
            "_view_module": "@jupyter-widgets/base",
            "_model_module_version": "1.5.0",
            "_view_count": null,
            "_view_module_version": "1.2.0",
            "bar_color": null,
            "_model_module": "@jupyter-widgets/controls"
          }
        },
        "9c8f883944234ca1b8f9e4d919d0c8ab": {
          "model_module": "@jupyter-widgets/base",
          "model_name": "LayoutModel",
          "state": {
            "_view_name": "LayoutView",
            "grid_template_rows": null,
            "right": null,
            "justify_content": null,
            "_view_module": "@jupyter-widgets/base",
            "overflow": null,
            "_model_module_version": "1.2.0",
            "_view_count": null,
            "flex_flow": null,
            "width": null,
            "min_width": null,
            "border": null,
            "align_items": null,
            "bottom": null,
            "_model_module": "@jupyter-widgets/base",
            "top": null,
            "grid_column": null,
            "overflow_y": null,
            "overflow_x": null,
            "grid_auto_flow": null,
            "grid_area": null,
            "grid_template_columns": null,
            "flex": null,
            "_model_name": "LayoutModel",
            "justify_items": null,
            "grid_row": null,
            "max_height": null,
            "align_content": null,
            "visibility": null,
            "align_self": null,
            "height": null,
            "min_height": null,
            "padding": null,
            "grid_auto_rows": null,
            "grid_gap": null,
            "max_width": null,
            "order": null,
            "_view_module_version": "1.2.0",
            "grid_template_areas": null,
            "object_position": null,
            "object_fit": null,
            "grid_auto_columns": null,
            "margin": null,
            "display": null,
            "left": null
          }
        },
        "e2d66f27bdca47a897befae425c9d65d": {
          "model_module": "@jupyter-widgets/controls",
          "model_name": "DescriptionStyleModel",
          "state": {
            "_view_name": "StyleView",
            "_model_name": "DescriptionStyleModel",
            "description_width": "",
            "_view_module": "@jupyter-widgets/base",
            "_model_module_version": "1.5.0",
            "_view_count": null,
            "_view_module_version": "1.2.0",
            "_model_module": "@jupyter-widgets/controls"
          }
        },
        "8610323f7a2d4e16be33cdfc26a26ee0": {
          "model_module": "@jupyter-widgets/base",
          "model_name": "LayoutModel",
          "state": {
            "_view_name": "LayoutView",
            "grid_template_rows": null,
            "right": null,
            "justify_content": null,
            "_view_module": "@jupyter-widgets/base",
            "overflow": null,
            "_model_module_version": "1.2.0",
            "_view_count": null,
            "flex_flow": null,
            "width": null,
            "min_width": null,
            "border": null,
            "align_items": null,
            "bottom": null,
            "_model_module": "@jupyter-widgets/base",
            "top": null,
            "grid_column": null,
            "overflow_y": null,
            "overflow_x": null,
            "grid_auto_flow": null,
            "grid_area": null,
            "grid_template_columns": null,
            "flex": null,
            "_model_name": "LayoutModel",
            "justify_items": null,
            "grid_row": null,
            "max_height": null,
            "align_content": null,
            "visibility": null,
            "align_self": null,
            "height": null,
            "min_height": null,
            "padding": null,
            "grid_auto_rows": null,
            "grid_gap": null,
            "max_width": null,
            "order": null,
            "_view_module_version": "1.2.0",
            "grid_template_areas": null,
            "object_position": null,
            "object_fit": null,
            "grid_auto_columns": null,
            "margin": null,
            "display": null,
            "left": null
          }
        },
        "5745505185864ec1a28d9884ae30c8ef": {
          "model_module": "@jupyter-widgets/controls",
          "model_name": "HBoxModel",
          "state": {
            "_view_name": "HBoxView",
            "_dom_classes": [],
            "_model_name": "HBoxModel",
            "_view_module": "@jupyter-widgets/controls",
            "_model_module_version": "1.5.0",
            "_view_count": null,
            "_view_module_version": "1.5.0",
            "box_style": "",
            "layout": "IPY_MODEL_ac6ecbdbaa8641b298c6e4cea8e1b660",
            "_model_module": "@jupyter-widgets/controls",
            "children": [
              "IPY_MODEL_1a69d16249fd416fa3ab3a7f9c3f7980",
              "IPY_MODEL_f3e96cc255fc467cbeeaeda9ad5caac3"
            ]
          }
        },
        "ac6ecbdbaa8641b298c6e4cea8e1b660": {
          "model_module": "@jupyter-widgets/base",
          "model_name": "LayoutModel",
          "state": {
            "_view_name": "LayoutView",
            "grid_template_rows": null,
            "right": null,
            "justify_content": null,
            "_view_module": "@jupyter-widgets/base",
            "overflow": null,
            "_model_module_version": "1.2.0",
            "_view_count": null,
            "flex_flow": null,
            "width": null,
            "min_width": null,
            "border": null,
            "align_items": null,
            "bottom": null,
            "_model_module": "@jupyter-widgets/base",
            "top": null,
            "grid_column": null,
            "overflow_y": null,
            "overflow_x": null,
            "grid_auto_flow": null,
            "grid_area": null,
            "grid_template_columns": null,
            "flex": null,
            "_model_name": "LayoutModel",
            "justify_items": null,
            "grid_row": null,
            "max_height": null,
            "align_content": null,
            "visibility": null,
            "align_self": null,
            "height": null,
            "min_height": null,
            "padding": null,
            "grid_auto_rows": null,
            "grid_gap": null,
            "max_width": null,
            "order": null,
            "_view_module_version": "1.2.0",
            "grid_template_areas": null,
            "object_position": null,
            "object_fit": null,
            "grid_auto_columns": null,
            "margin": null,
            "display": null,
            "left": null
          }
        },
        "1a69d16249fd416fa3ab3a7f9c3f7980": {
          "model_module": "@jupyter-widgets/controls",
          "model_name": "FloatProgressModel",
          "state": {
            "_view_name": "ProgressView",
            "style": "IPY_MODEL_4ac31e4329984b06bf6e4d44f63fc077",
            "_dom_classes": [],
            "description": "databases/BCI_Competition_IV/dataset_2a/metadata/desc_2a.pdf: 106%",
            "_model_name": "FloatProgressModel",
            "bar_style": "success",
            "max": 6.595916748046875,
            "_view_module": "@jupyter-widgets/controls",
            "_model_module_version": "1.5.0",
            "value": 6.595916748046875,
            "_view_count": null,
            "_view_module_version": "1.5.0",
            "orientation": "horizontal",
            "min": 0,
            "description_tooltip": null,
            "_model_module": "@jupyter-widgets/controls",
            "layout": "IPY_MODEL_ecaec2ed93af41c8b25c114ee1be933f"
          }
        },
        "f3e96cc255fc467cbeeaeda9ad5caac3": {
          "model_module": "@jupyter-widgets/controls",
          "model_name": "HTMLModel",
          "state": {
            "_view_name": "HTMLView",
            "style": "IPY_MODEL_3db650f89c464f4eb0d6820cc65c4e1e",
            "_dom_classes": [],
            "description": "",
            "_model_name": "HTMLModel",
            "placeholder": "​",
            "_view_module": "@jupyter-widgets/controls",
            "_model_module_version": "1.5.0",
            "value": " 7.00/6.60 [00:00&lt;00:00, 13.1B/s]",
            "_view_count": null,
            "_view_module_version": "1.5.0",
            "description_tooltip": null,
            "_model_module": "@jupyter-widgets/controls",
            "layout": "IPY_MODEL_214526f3b4fa45c1a4d353e93fd7ad91"
          }
        },
        "4ac31e4329984b06bf6e4d44f63fc077": {
          "model_module": "@jupyter-widgets/controls",
          "model_name": "ProgressStyleModel",
          "state": {
            "_view_name": "StyleView",
            "_model_name": "ProgressStyleModel",
            "description_width": "initial",
            "_view_module": "@jupyter-widgets/base",
            "_model_module_version": "1.5.0",
            "_view_count": null,
            "_view_module_version": "1.2.0",
            "bar_color": null,
            "_model_module": "@jupyter-widgets/controls"
          }
        },
        "ecaec2ed93af41c8b25c114ee1be933f": {
          "model_module": "@jupyter-widgets/base",
          "model_name": "LayoutModel",
          "state": {
            "_view_name": "LayoutView",
            "grid_template_rows": null,
            "right": null,
            "justify_content": null,
            "_view_module": "@jupyter-widgets/base",
            "overflow": null,
            "_model_module_version": "1.2.0",
            "_view_count": null,
            "flex_flow": null,
            "width": null,
            "min_width": null,
            "border": null,
            "align_items": null,
            "bottom": null,
            "_model_module": "@jupyter-widgets/base",
            "top": null,
            "grid_column": null,
            "overflow_y": null,
            "overflow_x": null,
            "grid_auto_flow": null,
            "grid_area": null,
            "grid_template_columns": null,
            "flex": null,
            "_model_name": "LayoutModel",
            "justify_items": null,
            "grid_row": null,
            "max_height": null,
            "align_content": null,
            "visibility": null,
            "align_self": null,
            "height": null,
            "min_height": null,
            "padding": null,
            "grid_auto_rows": null,
            "grid_gap": null,
            "max_width": null,
            "order": null,
            "_view_module_version": "1.2.0",
            "grid_template_areas": null,
            "object_position": null,
            "object_fit": null,
            "grid_auto_columns": null,
            "margin": null,
            "display": null,
            "left": null
          }
        },
        "3db650f89c464f4eb0d6820cc65c4e1e": {
          "model_module": "@jupyter-widgets/controls",
          "model_name": "DescriptionStyleModel",
          "state": {
            "_view_name": "StyleView",
            "_model_name": "DescriptionStyleModel",
            "description_width": "",
            "_view_module": "@jupyter-widgets/base",
            "_model_module_version": "1.5.0",
            "_view_count": null,
            "_view_module_version": "1.2.0",
            "_model_module": "@jupyter-widgets/controls"
          }
        },
        "214526f3b4fa45c1a4d353e93fd7ad91": {
          "model_module": "@jupyter-widgets/base",
          "model_name": "LayoutModel",
          "state": {
            "_view_name": "LayoutView",
            "grid_template_rows": null,
            "right": null,
            "justify_content": null,
            "_view_module": "@jupyter-widgets/base",
            "overflow": null,
            "_model_module_version": "1.2.0",
            "_view_count": null,
            "flex_flow": null,
            "width": null,
            "min_width": null,
            "border": null,
            "align_items": null,
            "bottom": null,
            "_model_module": "@jupyter-widgets/base",
            "top": null,
            "grid_column": null,
            "overflow_y": null,
            "overflow_x": null,
            "grid_auto_flow": null,
            "grid_area": null,
            "grid_template_columns": null,
            "flex": null,
            "_model_name": "LayoutModel",
            "justify_items": null,
            "grid_row": null,
            "max_height": null,
            "align_content": null,
            "visibility": null,
            "align_self": null,
            "height": null,
            "min_height": null,
            "padding": null,
            "grid_auto_rows": null,
            "grid_gap": null,
            "max_width": null,
            "order": null,
            "_view_module_version": "1.2.0",
            "grid_template_areas": null,
            "object_position": null,
            "object_fit": null,
            "grid_auto_columns": null,
            "margin": null,
            "display": null,
            "left": null
          }
        },
        "072c8c2938fd407eb32fc3a07fd98b1c": {
          "model_module": "@jupyter-widgets/controls",
          "model_name": "HBoxModel",
          "state": {
            "_view_name": "HBoxView",
            "_dom_classes": [],
            "_model_name": "HBoxModel",
            "_view_module": "@jupyter-widgets/controls",
            "_model_module_version": "1.5.0",
            "_view_count": null,
            "_view_module_version": "1.5.0",
            "box_style": "",
            "layout": "IPY_MODEL_e77d303347d248bfb7d1e04a53b60f73",
            "_model_module": "@jupyter-widgets/controls",
            "children": [
              "IPY_MODEL_67aa06bee4d041bcbc79b9da72296766",
              "IPY_MODEL_08587fb1e0e64914b79eca3a2064246d"
            ]
          }
        },
        "e77d303347d248bfb7d1e04a53b60f73": {
          "model_module": "@jupyter-widgets/base",
          "model_name": "LayoutModel",
          "state": {
            "_view_name": "LayoutView",
            "grid_template_rows": null,
            "right": null,
            "justify_content": null,
            "_view_module": "@jupyter-widgets/base",
            "overflow": null,
            "_model_module_version": "1.2.0",
            "_view_count": null,
            "flex_flow": null,
            "width": null,
            "min_width": null,
            "border": null,
            "align_items": null,
            "bottom": null,
            "_model_module": "@jupyter-widgets/base",
            "top": null,
            "grid_column": null,
            "overflow_y": null,
            "overflow_x": null,
            "grid_auto_flow": null,
            "grid_area": null,
            "grid_template_columns": null,
            "flex": null,
            "_model_name": "LayoutModel",
            "justify_items": null,
            "grid_row": null,
            "max_height": null,
            "align_content": null,
            "visibility": null,
            "align_self": null,
            "height": null,
            "min_height": null,
            "padding": null,
            "grid_auto_rows": null,
            "grid_gap": null,
            "max_width": null,
            "order": null,
            "_view_module_version": "1.2.0",
            "grid_template_areas": null,
            "object_position": null,
            "object_fit": null,
            "grid_auto_columns": null,
            "margin": null,
            "display": null,
            "left": null
          }
        },
        "67aa06bee4d041bcbc79b9da72296766": {
          "model_module": "@jupyter-widgets/controls",
          "model_name": "FloatProgressModel",
          "state": {
            "_view_name": "ProgressView",
            "style": "IPY_MODEL_1af59ce7800c4e51b51c2e56c1ab13f2",
            "_dom_classes": [],
            "description": "databases/GIGA-MI_ME/s30.mat: 100%",
            "_model_name": "FloatProgressModel",
            "bar_style": "success",
            "max": 6229.543182373047,
            "_view_module": "@jupyter-widgets/controls",
            "_model_module_version": "1.5.0",
            "value": 6229.543182373047,
            "_view_count": null,
            "_view_module_version": "1.5.0",
            "orientation": "horizontal",
            "min": 0,
            "description_tooltip": null,
            "_model_module": "@jupyter-widgets/controls",
            "layout": "IPY_MODEL_d694bd4821314b1a88b20c14fb900f16"
          }
        },
        "08587fb1e0e64914b79eca3a2064246d": {
          "model_module": "@jupyter-widgets/controls",
          "model_name": "HTMLModel",
          "state": {
            "_view_name": "HTMLView",
            "style": "IPY_MODEL_71452a7290bd43eea18f5d402d7bf13f",
            "_dom_classes": [],
            "description": "",
            "_model_name": "HTMLModel",
            "placeholder": "​",
            "_view_module": "@jupyter-widgets/controls",
            "_model_module_version": "1.5.0",
            "value": " 6.08k/6.08k [00:05&lt;00:00, 1.09kB/s]",
            "_view_count": null,
            "_view_module_version": "1.5.0",
            "description_tooltip": null,
            "_model_module": "@jupyter-widgets/controls",
            "layout": "IPY_MODEL_a9b2dec9683b41baab478c07111aa473"
          }
        },
        "1af59ce7800c4e51b51c2e56c1ab13f2": {
          "model_module": "@jupyter-widgets/controls",
          "model_name": "ProgressStyleModel",
          "state": {
            "_view_name": "StyleView",
            "_model_name": "ProgressStyleModel",
            "description_width": "initial",
            "_view_module": "@jupyter-widgets/base",
            "_model_module_version": "1.5.0",
            "_view_count": null,
            "_view_module_version": "1.2.0",
            "bar_color": null,
            "_model_module": "@jupyter-widgets/controls"
          }
        },
        "d694bd4821314b1a88b20c14fb900f16": {
          "model_module": "@jupyter-widgets/base",
          "model_name": "LayoutModel",
          "state": {
            "_view_name": "LayoutView",
            "grid_template_rows": null,
            "right": null,
            "justify_content": null,
            "_view_module": "@jupyter-widgets/base",
            "overflow": null,
            "_model_module_version": "1.2.0",
            "_view_count": null,
            "flex_flow": null,
            "width": null,
            "min_width": null,
            "border": null,
            "align_items": null,
            "bottom": null,
            "_model_module": "@jupyter-widgets/base",
            "top": null,
            "grid_column": null,
            "overflow_y": null,
            "overflow_x": null,
            "grid_auto_flow": null,
            "grid_area": null,
            "grid_template_columns": null,
            "flex": null,
            "_model_name": "LayoutModel",
            "justify_items": null,
            "grid_row": null,
            "max_height": null,
            "align_content": null,
            "visibility": null,
            "align_self": null,
            "height": null,
            "min_height": null,
            "padding": null,
            "grid_auto_rows": null,
            "grid_gap": null,
            "max_width": null,
            "order": null,
            "_view_module_version": "1.2.0",
            "grid_template_areas": null,
            "object_position": null,
            "object_fit": null,
            "grid_auto_columns": null,
            "margin": null,
            "display": null,
            "left": null
          }
        },
        "71452a7290bd43eea18f5d402d7bf13f": {
          "model_module": "@jupyter-widgets/controls",
          "model_name": "DescriptionStyleModel",
          "state": {
            "_view_name": "StyleView",
            "_model_name": "DescriptionStyleModel",
            "description_width": "",
            "_view_module": "@jupyter-widgets/base",
            "_model_module_version": "1.5.0",
            "_view_count": null,
            "_view_module_version": "1.2.0",
            "_model_module": "@jupyter-widgets/controls"
          }
        },
        "a9b2dec9683b41baab478c07111aa473": {
          "model_module": "@jupyter-widgets/base",
          "model_name": "LayoutModel",
          "state": {
            "_view_name": "LayoutView",
            "grid_template_rows": null,
            "right": null,
            "justify_content": null,
            "_view_module": "@jupyter-widgets/base",
            "overflow": null,
            "_model_module_version": "1.2.0",
            "_view_count": null,
            "flex_flow": null,
            "width": null,
            "min_width": null,
            "border": null,
            "align_items": null,
            "bottom": null,
            "_model_module": "@jupyter-widgets/base",
            "top": null,
            "grid_column": null,
            "overflow_y": null,
            "overflow_x": null,
            "grid_auto_flow": null,
            "grid_area": null,
            "grid_template_columns": null,
            "flex": null,
            "_model_name": "LayoutModel",
            "justify_items": null,
            "grid_row": null,
            "max_height": null,
            "align_content": null,
            "visibility": null,
            "align_self": null,
            "height": null,
            "min_height": null,
            "padding": null,
            "grid_auto_rows": null,
            "grid_gap": null,
            "max_width": null,
            "order": null,
            "_view_module_version": "1.2.0",
            "grid_template_areas": null,
            "object_position": null,
            "object_fit": null,
            "grid_auto_columns": null,
            "margin": null,
            "display": null,
            "left": null
          }
        },
        "b736f803560c45cc84fe11a066e6a8bb": {
          "model_module": "@jupyter-widgets/controls",
          "model_name": "HBoxModel",
          "state": {
            "_view_name": "HBoxView",
            "_dom_classes": [],
            "_model_name": "HBoxModel",
            "_view_module": "@jupyter-widgets/controls",
            "_model_module_version": "1.5.0",
            "_view_count": null,
            "_view_module_version": "1.5.0",
            "box_style": "",
            "layout": "IPY_MODEL_17797f9252c34a649ab5bdb20775ca5d",
            "_model_module": "@jupyter-widgets/controls",
            "children": [
              "IPY_MODEL_8eff2a55de894608ac6f3d60c00bc3c9",
              "IPY_MODEL_5b951f5ef26946238757643a67996d7c"
            ]
          }
        },
        "17797f9252c34a649ab5bdb20775ca5d": {
          "model_module": "@jupyter-widgets/base",
          "model_name": "LayoutModel",
          "state": {
            "_view_name": "LayoutView",
            "grid_template_rows": null,
            "right": null,
            "justify_content": null,
            "_view_module": "@jupyter-widgets/base",
            "overflow": null,
            "_model_module_version": "1.2.0",
            "_view_count": null,
            "flex_flow": null,
            "width": null,
            "min_width": null,
            "border": null,
            "align_items": null,
            "bottom": null,
            "_model_module": "@jupyter-widgets/base",
            "top": null,
            "grid_column": null,
            "overflow_y": null,
            "overflow_x": null,
            "grid_auto_flow": null,
            "grid_area": null,
            "grid_template_columns": null,
            "flex": null,
            "_model_name": "LayoutModel",
            "justify_items": null,
            "grid_row": null,
            "max_height": null,
            "align_content": null,
            "visibility": null,
            "align_self": null,
            "height": null,
            "min_height": null,
            "padding": null,
            "grid_auto_rows": null,
            "grid_gap": null,
            "max_width": null,
            "order": null,
            "_view_module_version": "1.2.0",
            "grid_template_areas": null,
            "object_position": null,
            "object_fit": null,
            "grid_auto_columns": null,
            "margin": null,
            "display": null,
            "left": null
          }
        },
        "8eff2a55de894608ac6f3d60c00bc3c9": {
          "model_module": "@jupyter-widgets/controls",
          "model_name": "FloatProgressModel",
          "state": {
            "_view_name": "ProgressView",
            "style": "IPY_MODEL_f4ef0c0cf10749c0b3a25356260b6c56",
            "_dom_classes": [],
            "description": "databases/GIGA-MI_ME/metadata/cho2017.pdf: ",
            "_model_name": "FloatProgressModel",
            "bar_style": "success",
            "max": 51.470489501953125,
            "_view_module": "@jupyter-widgets/controls",
            "_model_module_version": "1.5.0",
            "value": 51.470489501953125,
            "_view_count": null,
            "_view_module_version": "1.5.0",
            "orientation": "horizontal",
            "min": 0,
            "description_tooltip": null,
            "_model_module": "@jupyter-widgets/controls",
            "layout": "IPY_MODEL_fd91a018469049a3b53a55d36acd05fb"
          }
        },
        "5b951f5ef26946238757643a67996d7c": {
          "model_module": "@jupyter-widgets/controls",
          "model_name": "HTMLModel",
          "state": {
            "_view_name": "HTMLView",
            "style": "IPY_MODEL_712780e2dcb04f868c005990f3fa2b2d",
            "_dom_classes": [],
            "description": "",
            "_model_name": "HTMLModel",
            "placeholder": "​",
            "_view_module": "@jupyter-widgets/controls",
            "_model_module_version": "1.5.0",
            "value": " 52.0/? [00:01&lt;00:00, 33.3B/s]",
            "_view_count": null,
            "_view_module_version": "1.5.0",
            "description_tooltip": null,
            "_model_module": "@jupyter-widgets/controls",
            "layout": "IPY_MODEL_f480d854eb564ac29c8324c89329314a"
          }
        },
        "f4ef0c0cf10749c0b3a25356260b6c56": {
          "model_module": "@jupyter-widgets/controls",
          "model_name": "ProgressStyleModel",
          "state": {
            "_view_name": "StyleView",
            "_model_name": "ProgressStyleModel",
            "description_width": "initial",
            "_view_module": "@jupyter-widgets/base",
            "_model_module_version": "1.5.0",
            "_view_count": null,
            "_view_module_version": "1.2.0",
            "bar_color": null,
            "_model_module": "@jupyter-widgets/controls"
          }
        },
        "fd91a018469049a3b53a55d36acd05fb": {
          "model_module": "@jupyter-widgets/base",
          "model_name": "LayoutModel",
          "state": {
            "_view_name": "LayoutView",
            "grid_template_rows": null,
            "right": null,
            "justify_content": null,
            "_view_module": "@jupyter-widgets/base",
            "overflow": null,
            "_model_module_version": "1.2.0",
            "_view_count": null,
            "flex_flow": null,
            "width": null,
            "min_width": null,
            "border": null,
            "align_items": null,
            "bottom": null,
            "_model_module": "@jupyter-widgets/base",
            "top": null,
            "grid_column": null,
            "overflow_y": null,
            "overflow_x": null,
            "grid_auto_flow": null,
            "grid_area": null,
            "grid_template_columns": null,
            "flex": null,
            "_model_name": "LayoutModel",
            "justify_items": null,
            "grid_row": null,
            "max_height": null,
            "align_content": null,
            "visibility": null,
            "align_self": null,
            "height": null,
            "min_height": null,
            "padding": null,
            "grid_auto_rows": null,
            "grid_gap": null,
            "max_width": null,
            "order": null,
            "_view_module_version": "1.2.0",
            "grid_template_areas": null,
            "object_position": null,
            "object_fit": null,
            "grid_auto_columns": null,
            "margin": null,
            "display": null,
            "left": null
          }
        },
        "712780e2dcb04f868c005990f3fa2b2d": {
          "model_module": "@jupyter-widgets/controls",
          "model_name": "DescriptionStyleModel",
          "state": {
            "_view_name": "StyleView",
            "_model_name": "DescriptionStyleModel",
            "description_width": "",
            "_view_module": "@jupyter-widgets/base",
            "_model_module_version": "1.5.0",
            "_view_count": null,
            "_view_module_version": "1.2.0",
            "_model_module": "@jupyter-widgets/controls"
          }
        },
        "f480d854eb564ac29c8324c89329314a": {
          "model_module": "@jupyter-widgets/base",
          "model_name": "LayoutModel",
          "state": {
            "_view_name": "LayoutView",
            "grid_template_rows": null,
            "right": null,
            "justify_content": null,
            "_view_module": "@jupyter-widgets/base",
            "overflow": null,
            "_model_module_version": "1.2.0",
            "_view_count": null,
            "flex_flow": null,
            "width": null,
            "min_width": null,
            "border": null,
            "align_items": null,
            "bottom": null,
            "_model_module": "@jupyter-widgets/base",
            "top": null,
            "grid_column": null,
            "overflow_y": null,
            "overflow_x": null,
            "grid_auto_flow": null,
            "grid_area": null,
            "grid_template_columns": null,
            "flex": null,
            "_model_name": "LayoutModel",
            "justify_items": null,
            "grid_row": null,
            "max_height": null,
            "align_content": null,
            "visibility": null,
            "align_self": null,
            "height": null,
            "min_height": null,
            "padding": null,
            "grid_auto_rows": null,
            "grid_gap": null,
            "max_width": null,
            "order": null,
            "_view_module_version": "1.2.0",
            "grid_template_areas": null,
            "object_position": null,
            "object_fit": null,
            "grid_auto_columns": null,
            "margin": null,
            "display": null,
            "left": null
          }
        },
        "39ad98eee82d46bb81f80d70bc6444b4": {
          "model_module": "@jupyter-widgets/controls",
          "model_name": "HBoxModel",
          "state": {
            "_view_name": "HBoxView",
            "_dom_classes": [],
            "_model_name": "HBoxModel",
            "_view_module": "@jupyter-widgets/controls",
            "_model_module_version": "1.5.0",
            "_view_count": null,
            "_view_module_version": "1.5.0",
            "box_style": "",
            "layout": "IPY_MODEL_22710da3d6154a92925ac03dc8e42e71",
            "_model_module": "@jupyter-widgets/controls",
            "children": [
              "IPY_MODEL_8f84495bba01456c9c7a31e5d0e145f1",
              "IPY_MODEL_d75bf8d6037b4136b1c1bcea829b54ca"
            ]
          }
        },
        "22710da3d6154a92925ac03dc8e42e71": {
          "model_module": "@jupyter-widgets/base",
          "model_name": "LayoutModel",
          "state": {
            "_view_name": "LayoutView",
            "grid_template_rows": null,
            "right": null,
            "justify_content": null,
            "_view_module": "@jupyter-widgets/base",
            "overflow": null,
            "_model_module_version": "1.2.0",
            "_view_count": null,
            "flex_flow": null,
            "width": null,
            "min_width": null,
            "border": null,
            "align_items": null,
            "bottom": null,
            "_model_module": "@jupyter-widgets/base",
            "top": null,
            "grid_column": null,
            "overflow_y": null,
            "overflow_x": null,
            "grid_auto_flow": null,
            "grid_area": null,
            "grid_template_columns": null,
            "flex": null,
            "_model_name": "LayoutModel",
            "justify_items": null,
            "grid_row": null,
            "max_height": null,
            "align_content": null,
            "visibility": null,
            "align_self": null,
            "height": null,
            "min_height": null,
            "padding": null,
            "grid_auto_rows": null,
            "grid_gap": null,
            "max_width": null,
            "order": null,
            "_view_module_version": "1.2.0",
            "grid_template_areas": null,
            "object_position": null,
            "object_fit": null,
            "grid_auto_columns": null,
            "margin": null,
            "display": null,
            "left": null
          }
        },
        "8f84495bba01456c9c7a31e5d0e145f1": {
          "model_module": "@jupyter-widgets/controls",
          "model_name": "FloatProgressModel",
          "state": {
            "_view_name": "ProgressView",
            "style": "IPY_MODEL_1b6bff31ae4f44a79adad77d9b06e5d2",
            "_dom_classes": [],
            "description": "databases/GIGA-MI_ME/metadata/Questionnaire_results_of_52_subjects.xlsx: 120%",
            "_model_name": "FloatProgressModel",
            "bar_style": "success",
            "max": 0.83447265625,
            "_view_module": "@jupyter-widgets/controls",
            "_model_module_version": "1.5.0",
            "value": 0.83447265625,
            "_view_count": null,
            "_view_module_version": "1.5.0",
            "orientation": "horizontal",
            "min": 0,
            "description_tooltip": null,
            "_model_module": "@jupyter-widgets/controls",
            "layout": "IPY_MODEL_a53672e7491e460f911aa9e2bd10980c"
          }
        },
        "d75bf8d6037b4136b1c1bcea829b54ca": {
          "model_module": "@jupyter-widgets/controls",
          "model_name": "HTMLModel",
          "state": {
            "_view_name": "HTMLView",
            "style": "IPY_MODEL_88808462cb024fc6897a003a5176c642",
            "_dom_classes": [],
            "description": "",
            "_model_name": "HTMLModel",
            "placeholder": "​",
            "_view_module": "@jupyter-widgets/controls",
            "_model_module_version": "1.5.0",
            "value": " 1.00/0.83 [00:00&lt;00:00, 1.89B/s]",
            "_view_count": null,
            "_view_module_version": "1.5.0",
            "description_tooltip": null,
            "_model_module": "@jupyter-widgets/controls",
            "layout": "IPY_MODEL_74109f3ae562498da46b7f1524c0d42a"
          }
        },
        "1b6bff31ae4f44a79adad77d9b06e5d2": {
          "model_module": "@jupyter-widgets/controls",
          "model_name": "ProgressStyleModel",
          "state": {
            "_view_name": "StyleView",
            "_model_name": "ProgressStyleModel",
            "description_width": "initial",
            "_view_module": "@jupyter-widgets/base",
            "_model_module_version": "1.5.0",
            "_view_count": null,
            "_view_module_version": "1.2.0",
            "bar_color": null,
            "_model_module": "@jupyter-widgets/controls"
          }
        },
        "a53672e7491e460f911aa9e2bd10980c": {
          "model_module": "@jupyter-widgets/base",
          "model_name": "LayoutModel",
          "state": {
            "_view_name": "LayoutView",
            "grid_template_rows": null,
            "right": null,
            "justify_content": null,
            "_view_module": "@jupyter-widgets/base",
            "overflow": null,
            "_model_module_version": "1.2.0",
            "_view_count": null,
            "flex_flow": null,
            "width": null,
            "min_width": null,
            "border": null,
            "align_items": null,
            "bottom": null,
            "_model_module": "@jupyter-widgets/base",
            "top": null,
            "grid_column": null,
            "overflow_y": null,
            "overflow_x": null,
            "grid_auto_flow": null,
            "grid_area": null,
            "grid_template_columns": null,
            "flex": null,
            "_model_name": "LayoutModel",
            "justify_items": null,
            "grid_row": null,
            "max_height": null,
            "align_content": null,
            "visibility": null,
            "align_self": null,
            "height": null,
            "min_height": null,
            "padding": null,
            "grid_auto_rows": null,
            "grid_gap": null,
            "max_width": null,
            "order": null,
            "_view_module_version": "1.2.0",
            "grid_template_areas": null,
            "object_position": null,
            "object_fit": null,
            "grid_auto_columns": null,
            "margin": null,
            "display": null,
            "left": null
          }
        },
        "88808462cb024fc6897a003a5176c642": {
          "model_module": "@jupyter-widgets/controls",
          "model_name": "DescriptionStyleModel",
          "state": {
            "_view_name": "StyleView",
            "_model_name": "DescriptionStyleModel",
            "description_width": "",
            "_view_module": "@jupyter-widgets/base",
            "_model_module_version": "1.5.0",
            "_view_count": null,
            "_view_module_version": "1.2.0",
            "_model_module": "@jupyter-widgets/controls"
          }
        },
        "74109f3ae562498da46b7f1524c0d42a": {
          "model_module": "@jupyter-widgets/base",
          "model_name": "LayoutModel",
          "state": {
            "_view_name": "LayoutView",
            "grid_template_rows": null,
            "right": null,
            "justify_content": null,
            "_view_module": "@jupyter-widgets/base",
            "overflow": null,
            "_model_module_version": "1.2.0",
            "_view_count": null,
            "flex_flow": null,
            "width": null,
            "min_width": null,
            "border": null,
            "align_items": null,
            "bottom": null,
            "_model_module": "@jupyter-widgets/base",
            "top": null,
            "grid_column": null,
            "overflow_y": null,
            "overflow_x": null,
            "grid_auto_flow": null,
            "grid_area": null,
            "grid_template_columns": null,
            "flex": null,
            "_model_name": "LayoutModel",
            "justify_items": null,
            "grid_row": null,
            "max_height": null,
            "align_content": null,
            "visibility": null,
            "align_self": null,
            "height": null,
            "min_height": null,
            "padding": null,
            "grid_auto_rows": null,
            "grid_gap": null,
            "max_width": null,
            "order": null,
            "_view_module_version": "1.2.0",
            "grid_template_areas": null,
            "object_position": null,
            "object_fit": null,
            "grid_auto_columns": null,
            "margin": null,
            "display": null,
            "left": null
          }
        },
        "8555ee0461ae4461b323a981789ccbb3": {
          "model_module": "@jupyter-widgets/controls",
          "model_name": "HBoxModel",
          "state": {
            "_view_name": "HBoxView",
            "_dom_classes": [],
            "_model_name": "HBoxModel",
            "_view_module": "@jupyter-widgets/controls",
            "_model_module_version": "1.5.0",
            "_view_count": null,
            "_view_module_version": "1.5.0",
            "box_style": "",
            "layout": "IPY_MODEL_d466678061ab4669a5c6471c2d038f39",
            "_model_module": "@jupyter-widgets/controls",
            "children": [
              "IPY_MODEL_50a5f5922f0442a89515778ad77db3e3",
              "IPY_MODEL_82372bdce1ce4059a26a0f08a8670968"
            ]
          }
        },
        "d466678061ab4669a5c6471c2d038f39": {
          "model_module": "@jupyter-widgets/base",
          "model_name": "LayoutModel",
          "state": {
            "_view_name": "LayoutView",
            "grid_template_rows": null,
            "right": null,
            "justify_content": null,
            "_view_module": "@jupyter-widgets/base",
            "overflow": null,
            "_model_module_version": "1.2.0",
            "_view_count": null,
            "flex_flow": null,
            "width": null,
            "min_width": null,
            "border": null,
            "align_items": null,
            "bottom": null,
            "_model_module": "@jupyter-widgets/base",
            "top": null,
            "grid_column": null,
            "overflow_y": null,
            "overflow_x": null,
            "grid_auto_flow": null,
            "grid_area": null,
            "grid_template_columns": null,
            "flex": null,
            "_model_name": "LayoutModel",
            "justify_items": null,
            "grid_row": null,
            "max_height": null,
            "align_content": null,
            "visibility": null,
            "align_self": null,
            "height": null,
            "min_height": null,
            "padding": null,
            "grid_auto_rows": null,
            "grid_gap": null,
            "max_width": null,
            "order": null,
            "_view_module_version": "1.2.0",
            "grid_template_areas": null,
            "object_position": null,
            "object_fit": null,
            "grid_auto_columns": null,
            "margin": null,
            "display": null,
            "left": null
          }
        },
        "50a5f5922f0442a89515778ad77db3e3": {
          "model_module": "@jupyter-widgets/controls",
          "model_name": "FloatProgressModel",
          "state": {
            "_view_name": "ProgressView",
            "style": "IPY_MODEL_f6b6dcaf32f5425cbc9e062ff958f711",
            "_dom_classes": [],
            "description": "databases/GIGA-MI_ME/metadata/readme.txt: ",
            "_model_name": "FloatProgressModel",
            "bar_style": "success",
            "max": 0.068267822265625,
            "_view_module": "@jupyter-widgets/controls",
            "_model_module_version": "1.5.0",
            "value": 0.068267822265625,
            "_view_count": null,
            "_view_module_version": "1.5.0",
            "orientation": "horizontal",
            "min": 0,
            "description_tooltip": null,
            "_model_module": "@jupyter-widgets/controls",
            "layout": "IPY_MODEL_fffcfea946a9409ab54874e7ce9c182a"
          }
        },
        "82372bdce1ce4059a26a0f08a8670968": {
          "model_module": "@jupyter-widgets/controls",
          "model_name": "HTMLModel",
          "state": {
            "_view_name": "HTMLView",
            "style": "IPY_MODEL_260f3b1cb18a47a282dd7e88ceab40bc",
            "_dom_classes": [],
            "description": "",
            "_model_name": "HTMLModel",
            "placeholder": "​",
            "_view_module": "@jupyter-widgets/controls",
            "_model_module_version": "1.5.0",
            "value": " 1.00/? [00:00&lt;00:00, 20.8B/s]",
            "_view_count": null,
            "_view_module_version": "1.5.0",
            "description_tooltip": null,
            "_model_module": "@jupyter-widgets/controls",
            "layout": "IPY_MODEL_55a94da0b3a241448dbbba518d39192f"
          }
        },
        "f6b6dcaf32f5425cbc9e062ff958f711": {
          "model_module": "@jupyter-widgets/controls",
          "model_name": "ProgressStyleModel",
          "state": {
            "_view_name": "StyleView",
            "_model_name": "ProgressStyleModel",
            "description_width": "initial",
            "_view_module": "@jupyter-widgets/base",
            "_model_module_version": "1.5.0",
            "_view_count": null,
            "_view_module_version": "1.2.0",
            "bar_color": null,
            "_model_module": "@jupyter-widgets/controls"
          }
        },
        "fffcfea946a9409ab54874e7ce9c182a": {
          "model_module": "@jupyter-widgets/base",
          "model_name": "LayoutModel",
          "state": {
            "_view_name": "LayoutView",
            "grid_template_rows": null,
            "right": null,
            "justify_content": null,
            "_view_module": "@jupyter-widgets/base",
            "overflow": null,
            "_model_module_version": "1.2.0",
            "_view_count": null,
            "flex_flow": null,
            "width": null,
            "min_width": null,
            "border": null,
            "align_items": null,
            "bottom": null,
            "_model_module": "@jupyter-widgets/base",
            "top": null,
            "grid_column": null,
            "overflow_y": null,
            "overflow_x": null,
            "grid_auto_flow": null,
            "grid_area": null,
            "grid_template_columns": null,
            "flex": null,
            "_model_name": "LayoutModel",
            "justify_items": null,
            "grid_row": null,
            "max_height": null,
            "align_content": null,
            "visibility": null,
            "align_self": null,
            "height": null,
            "min_height": null,
            "padding": null,
            "grid_auto_rows": null,
            "grid_gap": null,
            "max_width": null,
            "order": null,
            "_view_module_version": "1.2.0",
            "grid_template_areas": null,
            "object_position": null,
            "object_fit": null,
            "grid_auto_columns": null,
            "margin": null,
            "display": null,
            "left": null
          }
        },
        "260f3b1cb18a47a282dd7e88ceab40bc": {
          "model_module": "@jupyter-widgets/controls",
          "model_name": "DescriptionStyleModel",
          "state": {
            "_view_name": "StyleView",
            "_model_name": "DescriptionStyleModel",
            "description_width": "",
            "_view_module": "@jupyter-widgets/base",
            "_model_module_version": "1.5.0",
            "_view_count": null,
            "_view_module_version": "1.2.0",
            "_model_module": "@jupyter-widgets/controls"
          }
        },
        "55a94da0b3a241448dbbba518d39192f": {
          "model_module": "@jupyter-widgets/base",
          "model_name": "LayoutModel",
          "state": {
            "_view_name": "LayoutView",
            "grid_template_rows": null,
            "right": null,
            "justify_content": null,
            "_view_module": "@jupyter-widgets/base",
            "overflow": null,
            "_model_module_version": "1.2.0",
            "_view_count": null,
            "flex_flow": null,
            "width": null,
            "min_width": null,
            "border": null,
            "align_items": null,
            "bottom": null,
            "_model_module": "@jupyter-widgets/base",
            "top": null,
            "grid_column": null,
            "overflow_y": null,
            "overflow_x": null,
            "grid_auto_flow": null,
            "grid_area": null,
            "grid_template_columns": null,
            "flex": null,
            "_model_name": "LayoutModel",
            "justify_items": null,
            "grid_row": null,
            "max_height": null,
            "align_content": null,
            "visibility": null,
            "align_self": null,
            "height": null,
            "min_height": null,
            "padding": null,
            "grid_auto_rows": null,
            "grid_gap": null,
            "max_width": null,
            "order": null,
            "_view_module_version": "1.2.0",
            "grid_template_areas": null,
            "object_position": null,
            "object_fit": null,
            "grid_auto_columns": null,
            "margin": null,
            "display": null,
            "left": null
          }
        },
        "698f561a3cf941d996a7fc1753c722fb": {
          "model_module": "@jupyter-widgets/controls",
          "model_name": "HBoxModel",
          "state": {
            "_view_name": "HBoxView",
            "_dom_classes": [],
            "_model_name": "HBoxModel",
            "_view_module": "@jupyter-widgets/controls",
            "_model_module_version": "1.5.0",
            "_view_count": null,
            "_view_module_version": "1.5.0",
            "box_style": "",
            "layout": "IPY_MODEL_3cab03f2d96740bdb2c9235037a45d0f",
            "_model_module": "@jupyter-widgets/controls",
            "children": [
              "IPY_MODEL_4dc9ea9185d64c558aecf28c2b246392",
              "IPY_MODEL_0145f103d95f4c6ea728913c8112550a"
            ]
          }
        },
        "3cab03f2d96740bdb2c9235037a45d0f": {
          "model_module": "@jupyter-widgets/base",
          "model_name": "LayoutModel",
          "state": {
            "_view_name": "LayoutView",
            "grid_template_rows": null,
            "right": null,
            "justify_content": null,
            "_view_module": "@jupyter-widgets/base",
            "overflow": null,
            "_model_module_version": "1.2.0",
            "_view_count": null,
            "flex_flow": null,
            "width": null,
            "min_width": null,
            "border": null,
            "align_items": null,
            "bottom": null,
            "_model_module": "@jupyter-widgets/base",
            "top": null,
            "grid_column": null,
            "overflow_y": null,
            "overflow_x": null,
            "grid_auto_flow": null,
            "grid_area": null,
            "grid_template_columns": null,
            "flex": null,
            "_model_name": "LayoutModel",
            "justify_items": null,
            "grid_row": null,
            "max_height": null,
            "align_content": null,
            "visibility": null,
            "align_self": null,
            "height": null,
            "min_height": null,
            "padding": null,
            "grid_auto_rows": null,
            "grid_gap": null,
            "max_width": null,
            "order": null,
            "_view_module_version": "1.2.0",
            "grid_template_areas": null,
            "object_position": null,
            "object_fit": null,
            "grid_auto_columns": null,
            "margin": null,
            "display": null,
            "left": null
          }
        },
        "4dc9ea9185d64c558aecf28c2b246392": {
          "model_module": "@jupyter-widgets/controls",
          "model_name": "FloatProgressModel",
          "state": {
            "_view_name": "ProgressView",
            "style": "IPY_MODEL_670bcb2811b1487abca633ccffcdceb0",
            "_dom_classes": [],
            "description": "databases/GIGA-MI_ME/metadata/trial_sequence.zip: ",
            "_model_name": "FloatProgressModel",
            "bar_style": "success",
            "max": 1.278961181640625,
            "_view_module": "@jupyter-widgets/controls",
            "_model_module_version": "1.5.0",
            "value": 1.278961181640625,
            "_view_count": null,
            "_view_module_version": "1.5.0",
            "orientation": "horizontal",
            "min": 0,
            "description_tooltip": null,
            "_model_module": "@jupyter-widgets/controls",
            "layout": "IPY_MODEL_68c5f3ee7b4a430ca4cec7f0c2e0f723"
          }
        },
        "0145f103d95f4c6ea728913c8112550a": {
          "model_module": "@jupyter-widgets/controls",
          "model_name": "HTMLModel",
          "state": {
            "_view_name": "HTMLView",
            "style": "IPY_MODEL_0638485e10a84fbfb60958a1da8fba52",
            "_dom_classes": [],
            "description": "",
            "_model_name": "HTMLModel",
            "placeholder": "​",
            "_view_module": "@jupyter-widgets/controls",
            "_model_module_version": "1.5.0",
            "value": " 2.00/? [00:00&lt;00:00, 17.9B/s]",
            "_view_count": null,
            "_view_module_version": "1.5.0",
            "description_tooltip": null,
            "_model_module": "@jupyter-widgets/controls",
            "layout": "IPY_MODEL_7df1d28f623b4913a91ee681ed61918d"
          }
        },
        "670bcb2811b1487abca633ccffcdceb0": {
          "model_module": "@jupyter-widgets/controls",
          "model_name": "ProgressStyleModel",
          "state": {
            "_view_name": "StyleView",
            "_model_name": "ProgressStyleModel",
            "description_width": "initial",
            "_view_module": "@jupyter-widgets/base",
            "_model_module_version": "1.5.0",
            "_view_count": null,
            "_view_module_version": "1.2.0",
            "bar_color": null,
            "_model_module": "@jupyter-widgets/controls"
          }
        },
        "68c5f3ee7b4a430ca4cec7f0c2e0f723": {
          "model_module": "@jupyter-widgets/base",
          "model_name": "LayoutModel",
          "state": {
            "_view_name": "LayoutView",
            "grid_template_rows": null,
            "right": null,
            "justify_content": null,
            "_view_module": "@jupyter-widgets/base",
            "overflow": null,
            "_model_module_version": "1.2.0",
            "_view_count": null,
            "flex_flow": null,
            "width": null,
            "min_width": null,
            "border": null,
            "align_items": null,
            "bottom": null,
            "_model_module": "@jupyter-widgets/base",
            "top": null,
            "grid_column": null,
            "overflow_y": null,
            "overflow_x": null,
            "grid_auto_flow": null,
            "grid_area": null,
            "grid_template_columns": null,
            "flex": null,
            "_model_name": "LayoutModel",
            "justify_items": null,
            "grid_row": null,
            "max_height": null,
            "align_content": null,
            "visibility": null,
            "align_self": null,
            "height": null,
            "min_height": null,
            "padding": null,
            "grid_auto_rows": null,
            "grid_gap": null,
            "max_width": null,
            "order": null,
            "_view_module_version": "1.2.0",
            "grid_template_areas": null,
            "object_position": null,
            "object_fit": null,
            "grid_auto_columns": null,
            "margin": null,
            "display": null,
            "left": null
          }
        },
        "0638485e10a84fbfb60958a1da8fba52": {
          "model_module": "@jupyter-widgets/controls",
          "model_name": "DescriptionStyleModel",
          "state": {
            "_view_name": "StyleView",
            "_model_name": "DescriptionStyleModel",
            "description_width": "",
            "_view_module": "@jupyter-widgets/base",
            "_model_module_version": "1.5.0",
            "_view_count": null,
            "_view_module_version": "1.2.0",
            "_model_module": "@jupyter-widgets/controls"
          }
        },
        "7df1d28f623b4913a91ee681ed61918d": {
          "model_module": "@jupyter-widgets/base",
          "model_name": "LayoutModel",
          "state": {
            "_view_name": "LayoutView",
            "grid_template_rows": null,
            "right": null,
            "justify_content": null,
            "_view_module": "@jupyter-widgets/base",
            "overflow": null,
            "_model_module_version": "1.2.0",
            "_view_count": null,
            "flex_flow": null,
            "width": null,
            "min_width": null,
            "border": null,
            "align_items": null,
            "bottom": null,
            "_model_module": "@jupyter-widgets/base",
            "top": null,
            "grid_column": null,
            "overflow_y": null,
            "overflow_x": null,
            "grid_auto_flow": null,
            "grid_area": null,
            "grid_template_columns": null,
            "flex": null,
            "_model_name": "LayoutModel",
            "justify_items": null,
            "grid_row": null,
            "max_height": null,
            "align_content": null,
            "visibility": null,
            "align_self": null,
            "height": null,
            "min_height": null,
            "padding": null,
            "grid_auto_rows": null,
            "grid_gap": null,
            "max_width": null,
            "order": null,
            "_view_module_version": "1.2.0",
            "grid_template_areas": null,
            "object_position": null,
            "object_fit": null,
            "grid_auto_columns": null,
            "margin": null,
            "display": null,
            "left": null
          }
        }
      }
    }
  },
  "cells": [
    {
      "cell_type": "markdown",
      "metadata": {
        "id": "eOSOSfCnxkJ6"
      },
      "source": [
        "### 1. Install GCPDS utils module"
      ]
    },
    {
      "cell_type": "code",
      "metadata": {
        "id": "EIP-REb4n0oH",
        "colab": {
          "base_uri": "https://localhost:8080/"
        },
        "outputId": "9ad15f97-d726-41a8-88d1-4702e9a1e728"
      },
      "source": [
        "!pip install -U git+https://github.com/UN-GCPDS/python-gcpds.utils.git"
      ],
      "execution_count": null,
      "outputs": [
        {
          "output_type": "stream",
          "text": [
            "Collecting git+https://github.com/UN-GCPDS/python-gcpds.utils.git\n",
            "  Cloning https://github.com/UN-GCPDS/python-gcpds.utils.git to /tmp/pip-req-build-xzoc79r0\n",
            "  Running command git clone -q https://github.com/UN-GCPDS/python-gcpds.utils.git /tmp/pip-req-build-xzoc79r0\n",
            "Requirement already satisfied, skipping upgrade: numpy in /usr/local/lib/python3.7/dist-packages (from gcpds-utils==0.1a3) (1.19.5)\n",
            "Requirement already satisfied, skipping upgrade: scipy in /usr/local/lib/python3.7/dist-packages (from gcpds-utils==0.1a3) (1.4.1)\n",
            "Requirement already satisfied, skipping upgrade: matplotlib in /usr/local/lib/python3.7/dist-packages (from gcpds-utils==0.1a3) (3.2.2)\n",
            "Collecting mne\n",
            "\u001b[?25l  Downloading https://files.pythonhosted.org/packages/60/f7/2bf5de3fad42b66d00ee27539bc3be0260b4e66fdecc12f740cdf2daf2e7/mne-0.23.0-py3-none-any.whl (6.9MB)\n",
            "\u001b[K     |████████████████████████████████| 7.0MB 5.5MB/s \n",
            "\u001b[?25hRequirement already satisfied, skipping upgrade: tables in /usr/local/lib/python3.7/dist-packages (from gcpds-utils==0.1a3) (3.4.4)\n",
            "Requirement already satisfied, skipping upgrade: tqdm in /usr/local/lib/python3.7/dist-packages (from gcpds-utils==0.1a3) (4.41.1)\n",
            "Requirement already satisfied, skipping upgrade: python-dateutil>=2.1 in /usr/local/lib/python3.7/dist-packages (from matplotlib->gcpds-utils==0.1a3) (2.8.1)\n",
            "Requirement already satisfied, skipping upgrade: kiwisolver>=1.0.1 in /usr/local/lib/python3.7/dist-packages (from matplotlib->gcpds-utils==0.1a3) (1.3.1)\n",
            "Requirement already satisfied, skipping upgrade: cycler>=0.10 in /usr/local/lib/python3.7/dist-packages (from matplotlib->gcpds-utils==0.1a3) (0.10.0)\n",
            "Requirement already satisfied, skipping upgrade: pyparsing!=2.0.4,!=2.1.2,!=2.1.6,>=2.0.1 in /usr/local/lib/python3.7/dist-packages (from matplotlib->gcpds-utils==0.1a3) (2.4.7)\n",
            "Requirement already satisfied, skipping upgrade: six>=1.9.0 in /usr/local/lib/python3.7/dist-packages (from tables->gcpds-utils==0.1a3) (1.15.0)\n",
            "Requirement already satisfied, skipping upgrade: numexpr>=2.5.2 in /usr/local/lib/python3.7/dist-packages (from tables->gcpds-utils==0.1a3) (2.7.3)\n",
            "Building wheels for collected packages: gcpds-utils\n",
            "  Building wheel for gcpds-utils (setup.py) ... \u001b[?25l\u001b[?25hdone\n",
            "  Created wheel for gcpds-utils: filename=gcpds_utils-0.1a3-cp37-none-any.whl size=115499 sha256=2f7c6902c35c7465526bebbb4fc8a2b2169bacac58954fdb5badd85f0456d3ba\n",
            "  Stored in directory: /tmp/pip-ephem-wheel-cache-5bqyuk2y/wheels/ab/4a/1e/d215a31a12c0fa202a9bccc9b9d68874deb08dfdce8b7d43c8\n",
            "Successfully built gcpds-utils\n",
            "Installing collected packages: mne, gcpds-utils\n",
            "Successfully installed gcpds-utils-0.1a3 mne-0.23.0\n"
          ],
          "name": "stdout"
        }
      ]
    },
    {
      "cell_type": "markdown",
      "metadata": {
        "id": "qQPNP13ixxBW"
      },
      "source": [
        "### 2. Import useful classes and functions"
      ]
    },
    {
      "cell_type": "code",
      "metadata": {
        "id": "pgOVdno4xGm3"
      },
      "source": [
        "from gcpds.utils import loaddb, colab"
      ],
      "execution_count": null,
      "outputs": []
    },
    {
      "cell_type": "markdown",
      "metadata": {
        "id": "mXMTNd1mymim"
      },
      "source": [
        "### 3. Available Databases in the module"
      ]
    },
    {
      "cell_type": "code",
      "metadata": {
        "id": "irPOtjYSxdLv",
        "colab": {
          "base_uri": "https://localhost:8080/"
        },
        "outputId": "311bf24a-d7f4-4406-ebbc-7dc90f4e54e5"
      },
      "source": [
        "loaddb.available_databases"
      ],
      "execution_count": null,
      "outputs": [
        {
          "output_type": "execute_result",
          "data": {
            "text/plain": [
              "['GIGA_MI_ME',\n",
              " 'BCI_CIV_2a',\n",
              " 'HighGamma_ME',\n",
              " 'PhysioNet_MI_ME',\n",
              " 'GIGA_BCI_ERP',\n",
              " 'GIGA_BCI_MI',\n",
              " 'GIGA_BCI_SSVEP']"
            ]
          },
          "metadata": {
            "tags": []
          },
          "execution_count": 3
        }
      ]
    },
    {
      "cell_type": "markdown",
      "metadata": {
        "id": "vQDz7h8oIPue"
      },
      "source": [
        "### 4. BCI Competition IV 2a"
      ]
    },
    {
      "cell_type": "markdown",
      "metadata": {
        "id": "rBMKFW5Vx9rB"
      },
      "source": [
        "#### 1. Instantiate desired database"
      ]
    },
    {
      "cell_type": "code",
      "metadata": {
        "id": "lc4bV3HxxdvG"
      },
      "source": [
        "db = loaddb.BCI_CIV_2a()"
      ],
      "execution_count": null,
      "outputs": []
    },
    {
      "cell_type": "markdown",
      "metadata": {
        "id": "-Z6ILn2YywRj"
      },
      "source": [
        "#### 2. Database Info"
      ]
    },
    {
      "cell_type": "code",
      "metadata": {
        "colab": {
          "base_uri": "https://localhost:8080/"
        },
        "id": "A6lvUXcIXDuw",
        "outputId": "8a2ed6f2-b9ed-4b16-dfcd-b701de7287a1"
      },
      "source": [
        "for info in db.metadata.keys():\n",
        "  print(info)"
      ],
      "execution_count": null,
      "outputs": [
        {
          "output_type": "stream",
          "text": [
            "channel_names\n",
            "classes\n",
            "sampling_rate\n",
            "montage\n",
            "tmin\n",
            "duration\n",
            "reference\n",
            "subjects\n",
            "runs_training\n",
            "runs_evaluation\n",
            "subject_training_files\n",
            "subject_training_pattern\n",
            "subject_evaluation_files\n",
            "subject_evaluation_pattern\n",
            "metadata\n",
            "directory\n"
          ],
          "name": "stdout"
        }
      ]
    },
    {
      "cell_type": "code",
      "metadata": {
        "id": "Rlna6FEfxjLr",
        "colab": {
          "base_uri": "https://localhost:8080/"
        },
        "outputId": "93a7e4c3-ccd0-4897-8156-e8561a6299ce"
      },
      "source": [
        "print(db.metadata['channel_names'])\n",
        "print(db.metadata['classes'])\n",
        "print(db.metadata['montage'])\n",
        "print(db.metadata['sampling_rate'])\n",
        "print(db.metadata['runs_training'])\n",
        "print(db.metadata['runs_evaluation'])"
      ],
      "execution_count": null,
      "outputs": [
        {
          "output_type": "stream",
          "text": [
            "['Fz', 'FC3', 'FC1', 'FCz', 'FC2', 'FC4', 'C5', 'C3', 'C1', 'Cz', 'C2', 'C4', 'C6', 'CP3', 'CP1', 'CPz', 'CP2', 'CP4', 'P1', 'Pz', 'P2', 'POz']\n",
            "['left hand', 'right hand', 'feet', 'tongue']\n",
            "standard_1020\n",
            "250\n",
            "[6, 6, 6, 6, 6, 6, 6, 6, 6]\n",
            "[6, 6, 6, 6, 6, 6, 6, 6, 6]\n"
          ],
          "name": "stdout"
        }
      ]
    },
    {
      "cell_type": "markdown",
      "metadata": {
        "id": "UbAgw9l3Id5M"
      },
      "source": [
        "#### 3. Load a subject"
      ]
    },
    {
      "cell_type": "code",
      "metadata": {
        "id": "cVB2vvlfIxoJ"
      },
      "source": [
        "sbj=8"
      ],
      "execution_count": null,
      "outputs": []
    },
    {
      "cell_type": "code",
      "metadata": {
        "id": "md0E3XbKItt2",
        "colab": {
          "base_uri": "https://localhost:8080/",
          "height": 137,
          "referenced_widgets": [
            "4941cccf6b0b4e0e8c31f8f07a863955",
            "66f5a24c5837432d995c6e53a49e3d1e",
            "d6ef437b4f4a4f7883b40cd2283ba94a",
            "140a00efac7646919b0244271be4ab68",
            "48e2a65c1d374ada8959de82759d4cb0",
            "9c8f883944234ca1b8f9e4d919d0c8ab",
            "e2d66f27bdca47a897befae425c9d65d",
            "8610323f7a2d4e16be33cdfc26a26ee0"
          ]
        },
        "outputId": "1ba814c3-9f92-4f62-a38a-7e086d5a8655"
      },
      "source": [
        "db.load_subject(sbj, mode='training')  # training dataset (Default)\n",
        "#db.load_subject(sbj, mode='evaluation')  # evaluation dataset"
      ],
      "execution_count": null,
      "outputs": [
        {
          "output_type": "stream",
          "text": [
            "WARNING:GCPDS:utils:Database not found!\n",
            "WARNING:GCPDS:utils:downloading...\n"
          ],
          "name": "stderr"
        },
        {
          "output_type": "stream",
          "text": [
            "Downloading 13fBcezRcNkT0HclYQZAO4cYrgJswDd8t into databases/BCI_Competition_IV/dataset_2a/A08T.mat... \n"
          ],
          "name": "stdout"
        },
        {
          "output_type": "display_data",
          "data": {
            "application/vnd.jupyter.widget-view+json": {
              "model_id": "4941cccf6b0b4e0e8c31f8f07a863955",
              "version_minor": 0,
              "version_major": 2
            },
            "text/plain": [
              "HBox(children=(FloatProgress(value=0.0, description='databases/BCI_Competition_IV/dataset_2a/A08T.mat', max=13…"
            ]
          },
          "metadata": {
            "tags": []
          }
        },
        {
          "output_type": "stream",
          "text": [
            "\n",
            "Done.\n"
          ],
          "name": "stdout"
        }
      ]
    },
    {
      "cell_type": "markdown",
      "metadata": {
        "id": "6D-G8hr-JCav"
      },
      "source": [
        "#### 4. Read data from the subject"
      ]
    },
    {
      "cell_type": "code",
      "metadata": {
        "id": "lmOViiv9JBuX",
        "colab": {
          "base_uri": "https://localhost:8080/"
        },
        "outputId": "73e4261b-8f78-4b13-b0fd-f380f3b68ef6"
      },
      "source": [
        "X, y = db.get_data()\n",
        "print('trials = ', X.shape[0])\n",
        "print('channels = ', X.shape[1])\n",
        "print('times = ', X.shape[2])\n",
        "print('labels = ',y.shape[0])"
      ],
      "execution_count": null,
      "outputs": [
        {
          "output_type": "stream",
          "text": [
            "trials =  264\n",
            "channels =  22\n",
            "times =  1750\n",
            "labels =  264\n"
          ],
          "name": "stdout"
        }
      ]
    },
    {
      "cell_type": "markdown",
      "metadata": {
        "id": "VcRCcBqjJU8C"
      },
      "source": [
        "##### 1. Custom classes and channels"
      ]
    },
    {
      "cell_type": "code",
      "metadata": {
        "id": "AeACRvvDJaCU",
        "colab": {
          "base_uri": "https://localhost:8080/"
        },
        "outputId": "3d47f8f0-0123-4a84-fdce-b10410645eab"
      },
      "source": [
        "X, y = db.get_data(classes=['left hand', 'right hand'], channels=['C3', 'C4'])\n",
        "#X, y = db.get_data(classes=[1, 3], channels=[1, 5, 10]) classes and the channels indexes instead of labels\n",
        "print('trials = ', X.shape[0])\n",
        "print('channels = ', X.shape[1])\n",
        "print('times = ', X.shape[2])\n",
        "print('labels = ',y.shape[0])"
      ],
      "execution_count": null,
      "outputs": [
        {
          "output_type": "stream",
          "text": [
            "trials =  132\n",
            "channels =  2\n",
            "times =  1750\n",
            "labels =  132\n"
          ],
          "name": "stdout"
        }
      ]
    },
    {
      "cell_type": "markdown",
      "metadata": {
        "id": "EbhNvJn1J1ng"
      },
      "source": [
        "##### 2. Reject bad Trials"
      ]
    },
    {
      "cell_type": "code",
      "metadata": {
        "id": "VhAaXpREJzaR",
        "colab": {
          "base_uri": "https://localhost:8080/"
        },
        "outputId": "d434430e-2dc1-4ef8-a7dd-f86957f3656a"
      },
      "source": [
        "X, y = db.get_data(reject_bad_trials=True) #Default True\n",
        "print('trials = ', X.shape[0])\n",
        "print('channels = ', X.shape[1])\n",
        "print('times = ', X.shape[2])\n",
        "print('labels = ',y.shape[0])"
      ],
      "execution_count": null,
      "outputs": [
        {
          "output_type": "stream",
          "text": [
            "trials =  264\n",
            "channels =  22\n",
            "times =  1750\n",
            "labels =  264\n"
          ],
          "name": "stdout"
        }
      ]
    },
    {
      "cell_type": "markdown",
      "metadata": {
        "id": "DYBoJwGcRxun"
      },
      "source": [
        "##### 3. Read data from sessions"
      ]
    },
    {
      "cell_type": "code",
      "metadata": {
        "id": "uyRU-kAjR2ic",
        "colab": {
          "base_uri": "https://localhost:8080/"
        },
        "outputId": "dd98a145-ebdb-4488-e8b4-24f0bbca68ff"
      },
      "source": [
        "run = 0\n",
        "X, y = db.get_run(run)\n",
        "print('trials = ', X.shape[0])\n",
        "print('channels = ', X.shape[1])\n",
        "print('times = ', X.shape[2])\n",
        "print('labels = ',y.shape[0])"
      ],
      "execution_count": null,
      "outputs": [
        {
          "output_type": "stream",
          "text": [
            "trials =  43\n",
            "channels =  22\n",
            "times =  1750\n",
            "labels =  43\n"
          ],
          "name": "stdout"
        }
      ]
    },
    {
      "cell_type": "markdown",
      "metadata": {
        "id": "xhZKJdScWKdz"
      },
      "source": [
        "###### 1. Custom classes and channels"
      ]
    },
    {
      "cell_type": "code",
      "metadata": {
        "colab": {
          "base_uri": "https://localhost:8080/"
        },
        "id": "pf9AAwqSV6pY",
        "outputId": "2e697822-b574-4821-faeb-b208e8866d17"
      },
      "source": [
        "X, y = db.get_run(run, classes=['left hand', 'right hand'], channels=['C3', 'C4'])\n",
        "#X, y = db.get_data(classes=[1, 3], channels=[1, 5, 10]) classes and the channels indexes instead of labels\n",
        "print('trials = ', X.shape[0])\n",
        "print('channels = ', X.shape[1])\n",
        "print('times = ', X.shape[2])\n",
        "print('labels = ',y.shape[0])"
      ],
      "execution_count": null,
      "outputs": [
        {
          "output_type": "stream",
          "text": [
            "trials =  21\n",
            "channels =  2\n",
            "times =  1750\n",
            "labels =  21\n"
          ],
          "name": "stdout"
        }
      ]
    },
    {
      "cell_type": "markdown",
      "metadata": {
        "id": "ECiCxiBmKHSZ"
      },
      "source": [
        "#### 5. Download Metadata"
      ]
    },
    {
      "cell_type": "code",
      "metadata": {
        "id": "VX0vX38jKMCN",
        "colab": {
          "base_uri": "https://localhost:8080/",
          "height": 118,
          "referenced_widgets": [
            "5745505185864ec1a28d9884ae30c8ef",
            "ac6ecbdbaa8641b298c6e4cea8e1b660",
            "1a69d16249fd416fa3ab3a7f9c3f7980",
            "f3e96cc255fc467cbeeaeda9ad5caac3",
            "4ac31e4329984b06bf6e4d44f63fc077",
            "ecaec2ed93af41c8b25c114ee1be933f",
            "3db650f89c464f4eb0d6820cc65c4e1e",
            "214526f3b4fa45c1a4d353e93fd7ad91"
          ]
        },
        "outputId": "df9aa6c3-db24-4abb-c67d-430f75cfe291"
      },
      "source": [
        "db.get_metadata()"
      ],
      "execution_count": null,
      "outputs": [
        {
          "output_type": "stream",
          "text": [
            "Downloading 13BqRmRnDsLlryQ37H9Wv0UzZ39StsOyT into databases/BCI_Competition_IV/dataset_2a/metadata/desc_2a.pdf... \n"
          ],
          "name": "stdout"
        },
        {
          "output_type": "display_data",
          "data": {
            "application/vnd.jupyter.widget-view+json": {
              "model_id": "5745505185864ec1a28d9884ae30c8ef",
              "version_minor": 0,
              "version_major": 2
            },
            "text/plain": [
              "HBox(children=(FloatProgress(value=0.0, description='databases/BCI_Competition_IV/dataset_2a/metadata/desc_2a.…"
            ]
          },
          "metadata": {
            "tags": []
          }
        },
        {
          "output_type": "stream",
          "text": [
            "\n",
            "Done.\n"
          ],
          "name": "stdout"
        }
      ]
    },
    {
      "cell_type": "markdown",
      "metadata": {
        "id": "UMZ5b220eLy5"
      },
      "source": [
        "### 5. GIGA MI/ME"
      ]
    },
    {
      "cell_type": "markdown",
      "metadata": {
        "id": "6FW_lWgNeTQ4"
      },
      "source": [
        "#### 1. Instantiate desired database"
      ]
    },
    {
      "cell_type": "code",
      "metadata": {
        "id": "0B3antd-eNgS"
      },
      "source": [
        "db = loaddb.GIGA_MI_ME()"
      ],
      "execution_count": null,
      "outputs": []
    },
    {
      "cell_type": "markdown",
      "metadata": {
        "id": "MCMVpXCZefcK"
      },
      "source": [
        "#### 2. Database Info"
      ]
    },
    {
      "cell_type": "code",
      "metadata": {
        "colab": {
          "base_uri": "https://localhost:8080/"
        },
        "id": "fLUiwt3bemri",
        "outputId": "9fc3fe4c-792c-4754-f62e-6dfa3c0dea7c"
      },
      "source": [
        "for info in db.metadata.keys():\n",
        "  print(info)"
      ],
      "execution_count": null,
      "outputs": [
        {
          "output_type": "stream",
          "text": [
            "channel_names\n",
            "classes\n",
            "non_task_classes\n",
            "sampling_rate\n",
            "montage\n",
            "tmin\n",
            "duration\n",
            "reference\n",
            "subjects\n",
            "runs_training\n",
            "subject_training_files\n",
            "subject_training_pattern\n",
            "subject_evaluation_files\n",
            "subject_evaluation_pattern\n",
            "metadata\n",
            "directory\n"
          ],
          "name": "stdout"
        }
      ]
    },
    {
      "cell_type": "code",
      "metadata": {
        "colab": {
          "base_uri": "https://localhost:8080/"
        },
        "id": "nf972H3KepfO",
        "outputId": "aadab251-4278-4ed8-9555-1b3439b60e1d"
      },
      "source": [
        "print(db.metadata['channel_names'])\n",
        "print(db.metadata['classes'])\n",
        "print(db.metadata['montage'])\n",
        "print(db.metadata['sampling_rate'])\n",
        "print(db.metadata['runs_training'])"
      ],
      "execution_count": null,
      "outputs": [
        {
          "output_type": "stream",
          "text": [
            "['Fp1', 'AF7', 'AF3', 'F1', 'F3', 'F5', 'F7', 'FT7', 'FC5', 'FC3', 'FC1', 'C1', 'C3', 'C5', 'T7', 'TP7', 'CP5', 'CP3', 'CP1', 'P1', 'P3', 'P5', 'P7', 'P9', 'PO7', 'PO3', 'O1', 'Iz', 'Oz', 'POz', 'Pz', 'CPz', 'Fpz', 'Fp2', 'AF8', 'AF4', 'AFz', 'Fz', 'F2', 'F4', 'F6', 'F8', 'FT8', 'FC6', 'FC4', 'FC2', 'FCz', 'Cz', 'C2', 'C4', 'C6', 'T8', 'TP8', 'CP6', 'CP4', 'CP2', 'P2', 'P4', 'P6', 'P8', 'P10', 'PO8', 'PO4', 'O2']\n",
            "['left hand mi', 'right hand mi', 'left hand mm', 'right hand mm']\n",
            "standard_1005\n",
            "512\n",
            "[5, 5, 5, 5, 5, 5, 6, 5, 6, 5, 5, 5, 5, 5, 5, 5, 5, 5, 5, 5, 5, 5, 5, 5, 5, 5, 5, 5, 5, 5, 5, 5, 5, 5, 5, 5, 5, 5, 5, 5, 5, 5, 5, 5, 5, 6, 5, 5, 5, 5, 5, 5]\n"
          ],
          "name": "stdout"
        }
      ]
    },
    {
      "cell_type": "markdown",
      "metadata": {
        "id": "yJhN2faWesIr"
      },
      "source": [
        "#### 3. Load a subject"
      ]
    },
    {
      "cell_type": "code",
      "metadata": {
        "id": "swuOnfm2ewnn"
      },
      "source": [
        "sbj= 30"
      ],
      "execution_count": null,
      "outputs": []
    },
    {
      "cell_type": "code",
      "metadata": {
        "id": "KjPrXb04e2Ou",
        "colab": {
          "base_uri": "https://localhost:8080/",
          "height": 137,
          "referenced_widgets": [
            "072c8c2938fd407eb32fc3a07fd98b1c",
            "e77d303347d248bfb7d1e04a53b60f73",
            "67aa06bee4d041bcbc79b9da72296766",
            "08587fb1e0e64914b79eca3a2064246d",
            "1af59ce7800c4e51b51c2e56c1ab13f2",
            "d694bd4821314b1a88b20c14fb900f16",
            "71452a7290bd43eea18f5d402d7bf13f",
            "a9b2dec9683b41baab478c07111aa473"
          ]
        },
        "outputId": "9503b288-c43f-4fb9-ea2d-d56d5e83e809"
      },
      "source": [
        "db.load_subject(sbj, mode='training')  # training dataset (Default)\n",
        "#db.load_subject(sbj, mode='evaluation')  # evaluation dataset"
      ],
      "execution_count": null,
      "outputs": [
        {
          "output_type": "stream",
          "text": [
            "WARNING:GCPDS:utils:Database not found!\n",
            "WARNING:GCPDS:utils:downloading...\n"
          ],
          "name": "stderr"
        },
        {
          "output_type": "stream",
          "text": [
            "Downloading 11SFoueUYhrqT5sQlgVl9F2SNCMcbot5m into databases/GIGA-MI_ME/s30.mat... \n"
          ],
          "name": "stdout"
        },
        {
          "output_type": "display_data",
          "data": {
            "application/vnd.jupyter.widget-view+json": {
              "model_id": "072c8c2938fd407eb32fc3a07fd98b1c",
              "version_minor": 0,
              "version_major": 2
            },
            "text/plain": [
              "HBox(children=(FloatProgress(value=0.0, description='databases/GIGA-MI_ME/s30.mat', max=6229.543182373047, sty…"
            ]
          },
          "metadata": {
            "tags": []
          }
        },
        {
          "output_type": "stream",
          "text": [
            "\n",
            "Done.\n"
          ],
          "name": "stdout"
        }
      ]
    },
    {
      "cell_type": "markdown",
      "metadata": {
        "id": "qfpsFY6De6xK"
      },
      "source": [
        "#### 4. Read data from the subject"
      ]
    },
    {
      "cell_type": "code",
      "metadata": {
        "colab": {
          "base_uri": "https://localhost:8080/"
        },
        "id": "rtYMQSN6fDh2",
        "outputId": "9be88001-24e6-406e-8370-8e08f34c7543"
      },
      "source": [
        "X, y = db.get_data()\n",
        "print('trials = ', X.shape[0])\n",
        "print('channels = ', X.shape[1])\n",
        "print('times = ', X.shape[2])\n",
        "print('labels = ',y.shape[0])"
      ],
      "execution_count": null,
      "outputs": [
        {
          "output_type": "stream",
          "text": [
            "WARNING:GCPDS:utils:The subject 30 in the run 2 has no data.\n",
            "WARNING:GCPDS:utils:The subject 30 in the run 2 has no data.\n"
          ],
          "name": "stderr"
        },
        {
          "output_type": "stream",
          "text": [
            "trials =  162\n",
            "channels =  64\n",
            "times =  3584\n",
            "labels =  162\n"
          ],
          "name": "stdout"
        }
      ]
    },
    {
      "cell_type": "markdown",
      "metadata": {
        "id": "X44-7uwNfKu3"
      },
      "source": [
        "##### 1. Custom classes and channels"
      ]
    },
    {
      "cell_type": "code",
      "metadata": {
        "colab": {
          "base_uri": "https://localhost:8080/"
        },
        "id": "Vga1dvIjfLdb",
        "outputId": "8e6f8db3-d9cf-4afe-c958-0dc84a516f1a"
      },
      "source": [
        "X, y = db.get_data(classes=['left hand mi', 'right hand mi'], channels=['C3', 'C4'])\n",
        "#X, y = db.get_data(classes=[1, 3], channels=[1, 5, 10]) classes and the channels indexes instead of labels\n",
        "print('trials = ', X.shape[0])\n",
        "print('channels = ', X.shape[1])\n",
        "print('times = ', X.shape[2])\n",
        "print('labels = ',y.shape[0])"
      ],
      "execution_count": null,
      "outputs": [
        {
          "output_type": "stream",
          "text": [
            "WARNING:GCPDS:utils:The subject 30 in the run 2 has no data.\n",
            "WARNING:GCPDS:utils:The subject 30 in the run 2 has no data.\n"
          ],
          "name": "stderr"
        },
        {
          "output_type": "stream",
          "text": [
            "trials =  122\n",
            "channels =  2\n",
            "times =  3584\n",
            "labels =  122\n"
          ],
          "name": "stdout"
        }
      ]
    },
    {
      "cell_type": "markdown",
      "metadata": {
        "id": "hqB23KPNfOTV"
      },
      "source": [
        "##### 2. Reject bad Trials"
      ]
    },
    {
      "cell_type": "code",
      "metadata": {
        "colab": {
          "base_uri": "https://localhost:8080/"
        },
        "id": "-q-57zklfR0f",
        "outputId": "a937a9af-b12d-445d-8525-747be5eee02f"
      },
      "source": [
        "X, y = db.get_data(reject_bad_trials=True) #Default True\n",
        "print('trials = ', X.shape[0])\n",
        "print('channels = ', X.shape[1])\n",
        "print('times = ', X.shape[2])\n",
        "print('labels = ',y.shape[0])"
      ],
      "execution_count": null,
      "outputs": [
        {
          "output_type": "stream",
          "text": [
            "WARNING:GCPDS:utils:The subject 30 in the run 2 has no data.\n",
            "WARNING:GCPDS:utils:The subject 30 in the run 2 has no data.\n"
          ],
          "name": "stderr"
        },
        {
          "output_type": "stream",
          "text": [
            "trials =  162\n",
            "channels =  64\n",
            "times =  3584\n",
            "labels =  162\n"
          ],
          "name": "stdout"
        }
      ]
    },
    {
      "cell_type": "markdown",
      "metadata": {
        "id": "MnJ4CiODfVwY"
      },
      "source": [
        "##### 3. Read data from sessions"
      ]
    },
    {
      "cell_type": "code",
      "metadata": {
        "colab": {
          "base_uri": "https://localhost:8080/"
        },
        "id": "NEO9prEZfZ7D",
        "outputId": "ca7069ae-165f-4949-cdb4-c9e01eb783ff"
      },
      "source": [
        "run = 0\n",
        "X, y = db.get_run(run, classes=[0,1]) #only supports to read the session by mm or mi.\n",
        "print('trials = ', X.shape[0])\n",
        "print('channels = ', X.shape[1])\n",
        "print('times = ', X.shape[2])\n",
        "print('labels = ',y.shape[0])"
      ],
      "execution_count": null,
      "outputs": [
        {
          "output_type": "stream",
          "text": [
            "trials =  33\n",
            "channels =  64\n",
            "times =  3584\n",
            "labels =  33\n"
          ],
          "name": "stdout"
        }
      ]
    },
    {
      "cell_type": "markdown",
      "metadata": {
        "id": "7aq1hjnafdra"
      },
      "source": [
        "###### 1. Custom classes and channels"
      ]
    },
    {
      "cell_type": "code",
      "metadata": {
        "colab": {
          "base_uri": "https://localhost:8080/"
        },
        "id": "aVBJwyXcfi9W",
        "outputId": "e0ba4900-c0b4-4099-9bae-52774fe5870e"
      },
      "source": [
        "X, y = db.get_run(run, classes=['left hand mi', 'right hand mi'], channels=['C3', 'C4'])\n",
        "#X, y = db.get_data(classes=[1, 3], channels=[1, 5, 10]) classes and the channels indexes instead of labels\n",
        "print('trials = ', X.shape[0])\n",
        "print('channels = ', X.shape[1])\n",
        "print('times = ', X.shape[2])\n",
        "print('labels = ',y.shape[0])"
      ],
      "execution_count": null,
      "outputs": [
        {
          "output_type": "stream",
          "text": [
            "trials =  33\n",
            "channels =  2\n",
            "times =  3584\n",
            "labels =  33\n"
          ],
          "name": "stdout"
        }
      ]
    },
    {
      "cell_type": "markdown",
      "metadata": {
        "id": "0b2SwfVjfltb"
      },
      "source": [
        "#### 5. Download Metadata"
      ]
    },
    {
      "cell_type": "code",
      "metadata": {
        "id": "l9Q7EB65fqpP",
        "colab": {
          "base_uri": "https://localhost:8080/",
          "height": 361,
          "referenced_widgets": [
            "b736f803560c45cc84fe11a066e6a8bb",
            "17797f9252c34a649ab5bdb20775ca5d",
            "8eff2a55de894608ac6f3d60c00bc3c9",
            "5b951f5ef26946238757643a67996d7c",
            "f4ef0c0cf10749c0b3a25356260b6c56",
            "fd91a018469049a3b53a55d36acd05fb",
            "712780e2dcb04f868c005990f3fa2b2d",
            "f480d854eb564ac29c8324c89329314a",
            "39ad98eee82d46bb81f80d70bc6444b4",
            "22710da3d6154a92925ac03dc8e42e71",
            "8f84495bba01456c9c7a31e5d0e145f1",
            "d75bf8d6037b4136b1c1bcea829b54ca",
            "1b6bff31ae4f44a79adad77d9b06e5d2",
            "a53672e7491e460f911aa9e2bd10980c",
            "88808462cb024fc6897a003a5176c642",
            "74109f3ae562498da46b7f1524c0d42a",
            "8555ee0461ae4461b323a981789ccbb3",
            "d466678061ab4669a5c6471c2d038f39",
            "50a5f5922f0442a89515778ad77db3e3",
            "82372bdce1ce4059a26a0f08a8670968",
            "f6b6dcaf32f5425cbc9e062ff958f711",
            "fffcfea946a9409ab54874e7ce9c182a",
            "260f3b1cb18a47a282dd7e88ceab40bc",
            "55a94da0b3a241448dbbba518d39192f",
            "698f561a3cf941d996a7fc1753c722fb",
            "3cab03f2d96740bdb2c9235037a45d0f",
            "4dc9ea9185d64c558aecf28c2b246392",
            "0145f103d95f4c6ea728913c8112550a",
            "670bcb2811b1487abca633ccffcdceb0",
            "68c5f3ee7b4a430ca4cec7f0c2e0f723",
            "0638485e10a84fbfb60958a1da8fba52",
            "7df1d28f623b4913a91ee681ed61918d"
          ]
        },
        "outputId": "8d350c8b-c62e-41bd-feb3-2e161534c1bb"
      },
      "source": [
        "db.get_metadata()"
      ],
      "execution_count": null,
      "outputs": [
        {
          "output_type": "stream",
          "text": [
            "Downloading 1-59y5Q9Nt6L8dq_QMsYhlSfLV36_KLuN into databases/GIGA-MI_ME/metadata/cho2017.pdf... \n"
          ],
          "name": "stdout"
        },
        {
          "output_type": "display_data",
          "data": {
            "application/vnd.jupyter.widget-view+json": {
              "model_id": "b736f803560c45cc84fe11a066e6a8bb",
              "version_minor": 0,
              "version_major": 2
            },
            "text/plain": [
              "HBox(children=(FloatProgress(value=0.0, description='databases/GIGA-MI_ME/metadata/cho2017.pdf', max=51.470489…"
            ]
          },
          "metadata": {
            "tags": []
          }
        },
        {
          "output_type": "stream",
          "text": [
            "\n",
            "Done.\n",
            "Downloading 12qRbFvF21OOOJZ_vrhRGWa2ykli2vpIs into databases/GIGA-MI_ME/metadata/Questionnaire_results_of_52_subjects.xlsx... \n"
          ],
          "name": "stdout"
        },
        {
          "output_type": "display_data",
          "data": {
            "application/vnd.jupyter.widget-view+json": {
              "model_id": "39ad98eee82d46bb81f80d70bc6444b4",
              "version_minor": 0,
              "version_major": 2
            },
            "text/plain": [
              "HBox(children=(FloatProgress(value=0.0, description='databases/GIGA-MI_ME/metadata/Questionnaire_results_of_52…"
            ]
          },
          "metadata": {
            "tags": []
          }
        },
        {
          "output_type": "stream",
          "text": [
            "\n",
            "Done.\n",
            "Downloading 12tko40nhuE2kFgFvJjanv_qE3FmH4wtJ into databases/GIGA-MI_ME/metadata/readme.txt... \n"
          ],
          "name": "stdout"
        },
        {
          "output_type": "display_data",
          "data": {
            "application/vnd.jupyter.widget-view+json": {
              "model_id": "8555ee0461ae4461b323a981789ccbb3",
              "version_minor": 0,
              "version_major": 2
            },
            "text/plain": [
              "HBox(children=(FloatProgress(value=0.0, description='databases/GIGA-MI_ME/metadata/readme.txt', max=0.06826782…"
            ]
          },
          "metadata": {
            "tags": []
          }
        },
        {
          "output_type": "stream",
          "text": [
            "\n",
            "Done.\n",
            "Downloading 12ums2JR9Wr_PaI9t46sJrubMo82Uzigi into databases/GIGA-MI_ME/metadata/trial_sequence.zip... \n"
          ],
          "name": "stdout"
        },
        {
          "output_type": "display_data",
          "data": {
            "application/vnd.jupyter.widget-view+json": {
              "model_id": "698f561a3cf941d996a7fc1753c722fb",
              "version_minor": 0,
              "version_major": 2
            },
            "text/plain": [
              "HBox(children=(FloatProgress(value=0.0, description='databases/GIGA-MI_ME/metadata/trial_sequence.zip', max=1.…"
            ]
          },
          "metadata": {
            "tags": []
          }
        },
        {
          "output_type": "stream",
          "text": [
            "\n",
            "Done.\n"
          ],
          "name": "stdout"
        }
      ]
    }
  ]
}